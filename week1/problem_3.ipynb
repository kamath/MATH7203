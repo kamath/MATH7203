{
 "cells": [
  {
   "cell_type": "markdown",
   "source": [
    "$ln(z) =\\frac{z-1}{1+} \\frac{1^2(z-1)}{2+} \\frac{1^2(z - 1)}{3+} \\frac{2^2(z-1)}{4+} \\frac{2^2(z-1)}{5+} \\frac{3^2(z-1)}{6+} \\frac{3^2(z-1)}{7+}$\n",
    "\n",
    "$= \\frac{z - 1}{1 + \\frac{1^2(z-1)}{2 + \\frac{1^2(z-1)}{3+\\dots}}}$\n",
    "\n",
    "$b_0(z) + \\frac{a_1(z)}{b_1(z)+\\frac{a_2(z)}{b_2(z) + ...}}$"
   ],
   "metadata": {
    "collapsed": false,
    "pycharm": {
     "name": "#%% md\n"
    }
   }
  },
  {
   "cell_type": "code",
   "execution_count": 35,
   "outputs": [],
   "source": [
    "def ln(z):\n",
    "    b0 = 0\n",
    "    a = 1\n",
    "    b = 1\n",
    "\n",
    "    Ajm2 = 1\n",
    "    Bjm2 = 0\n",
    "    Ajm1 = b0\n",
    "    Bjm1 = 1\n",
    "\n",
    "    ynm1 = 0\n",
    "    tol = 1e-9\n",
    "\n",
    "    for j in range(1, 501):\n",
    "        new_term = a * a * (z - 1)\n",
    "        Aj = b*Ajm1 + new_term * Ajm2\n",
    "        Bj = b*Bjm1 + new_term * Bjm2\n",
    "        yn = Aj/Bj\n",
    "        diff = yn - ynm1\n",
    "\n",
    "        if abs(diff) < tol:\n",
    "            return yn\n",
    "        ynm1 = yn\n",
    "        Ajm2 = Ajm1\n",
    "        Bjm2 = Bjm1\n",
    "        Ajm1 = Aj\n",
    "        Bjm1 = Bj\n",
    "        # Increment after 3 terms after each term has been used twice\n",
    "        if j >= 3 and j % 2:\n",
    "            a += 1\n",
    "        b += 1"
   ],
   "metadata": {
    "collapsed": false,
    "pycharm": {
     "name": "#%%\n"
    }
   }
  },
  {
   "cell_type": "code",
   "execution_count": 34,
   "outputs": [
    {
     "name": "stdout",
     "output_type": "stream",
     "text": [
      "ALL 100 TESTS PASSED\n"
     ]
    }
   ],
   "source": [
    "from random import random\n",
    "\n",
    "import math\n",
    "n_tests = 100\n",
    "tol = 1e-8\n",
    "\n",
    "failed = False\n",
    "for _ in range(n_tests):\n",
    "    check = random() * 15\n",
    "    res = ln(check)\n",
    "    z_roundtrip = math.exp(res)\n",
    "    delta = abs(z_roundtrip - check)\n",
    "    if delta > tol:\n",
    "        print(f\"\\n----------- FAILED ----------- {_}/{n_tests} Error: ±\", delta, \"\\n\")\n",
    "        failed = True\n",
    "\n",
    "if not failed:\n",
    "    print(f\"ALL {n_tests} TESTS PASSED\")\n"
   ],
   "metadata": {
    "collapsed": false,
    "pycharm": {
     "name": "#%%\n"
    }
   }
  },
  {
   "cell_type": "markdown",
   "source": [
    "For fun, I also implemented a more modular continued fraction expansion that works on any other problem that uses continued fractions beyond just ln.\n",
    "\n",
    "That implementation is below, with its own test suite."
   ],
   "metadata": {
    "collapsed": false,
    "pycharm": {
     "name": "#%% md\n"
    }
   }
  },
  {
   "cell_type": "code",
   "execution_count": 32,
   "outputs": [],
   "source": [
    "import itertools\n",
    "\n",
    "def CF(a, b, b0):\n",
    "    Ajm2 = 1\n",
    "    Bjm2 = 0\n",
    "    Ajm1 = b0\n",
    "    Bjm1 = 1\n",
    "\n",
    "    ynm1 = 0\n",
    "    tol = 1e-9\n",
    "    i = 1\n",
    "\n",
    "    for a_term, b_term in zip(a, b):\n",
    "        if i > 1000:\n",
    "            print(\"FAILED TO CONVERGE\")\n",
    "            break\n",
    "        Aj = b_term * Ajm1 + a_term * Ajm2\n",
    "        Bj = b_term * Bjm1 + a_term * Bjm2\n",
    "        yn = Aj/Bj\n",
    "        diff = yn - ynm1\n",
    "\n",
    "        # print(i, a_term, b_term, Aj, Bj, yn)\n",
    "        i += 1\n",
    "\n",
    "        if abs(diff) < tol:\n",
    "            return yn\n",
    "\n",
    "        ynm1 = yn\n",
    "        Ajm2 = Ajm1\n",
    "        Bjm2 = Bjm1\n",
    "        Ajm1 = Aj\n",
    "        Bjm1 = Bj\n",
    "\n",
    "def functional_ln(x):\n",
    "    def num(term):\n",
    "        yield term - 1\n",
    "        a_term = 1\n",
    "        used_twice = False\n",
    "        while True:\n",
    "            yield a_term * a_term * (term - 1)\n",
    "            if used_twice:\n",
    "                a_term += 1\n",
    "            used_twice = not used_twice\n",
    "\n",
    "    def den(term):\n",
    "        for x in itertools.count(1):\n",
    "            yield x\n",
    "\n",
    "    return CF(num(x), den(x), 0)"
   ],
   "metadata": {
    "collapsed": false,
    "pycharm": {
     "name": "#%%\n"
    }
   }
  },
  {
   "cell_type": "code",
   "execution_count": 39,
   "outputs": [
    {
     "name": "stdout",
     "output_type": "stream",
     "text": [
      "ALL 100 TESTS PASSED\n"
     ]
    }
   ],
   "source": [
    "import math\n",
    "n_tests = 100\n",
    "tol = 1e-8\n",
    "\n",
    "failed = False\n",
    "for _ in range(n_tests):\n",
    "    check = random() * 15\n",
    "    res = functional_ln(check)\n",
    "    z_roundtrip = math.exp(res)\n",
    "    delta = abs(z_roundtrip - check)\n",
    "    if delta > tol:\n",
    "        print(f\"\\n----------- FAILED ----------- {_}/{n_tests} Error: ±\", delta, \"\\n\")\n",
    "        failed = True\n",
    "\n",
    "if not failed:\n",
    "    print(f\"ALL {n_tests} TESTS PASSED\")\n"
   ],
   "metadata": {
    "collapsed": false,
    "pycharm": {
     "name": "#%%\n"
    }
   }
  },
  {
   "cell_type": "code",
   "execution_count": null,
   "outputs": [],
   "source": [],
   "metadata": {
    "collapsed": false,
    "pycharm": {
     "name": "#%%\n"
    }
   }
  }
 ],
 "metadata": {
  "kernelspec": {
   "display_name": "Python 3",
   "language": "python",
   "name": "python3"
  },
  "language_info": {
   "codemirror_mode": {
    "name": "ipython",
    "version": 2
   },
   "file_extension": ".py",
   "mimetype": "text/x-python",
   "name": "python",
   "nbconvert_exporter": "python",
   "pygments_lexer": "ipython2",
   "version": "2.7.6"
  }
 },
 "nbformat": 4,
 "nbformat_minor": 0
}