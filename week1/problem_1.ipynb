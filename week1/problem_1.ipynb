{
 "cells": [
  {
   "cell_type": "markdown",
   "metadata": {
    "collapsed": true,
    "pycharm": {
     "name": "#%% md\n"
    }
   },
   "source": [
    "We take the expression for $ln(2)$ to be $ln(2) = \\lim_{N \\to \\infty} \\sum_{k=1}^{N} \\frac{1}{k 2^k} $\n",
    "\n",
    "Let us compute this sum for a given input $N$.\n",
    "\n",
    "We don't compute $2^k$ with every iteration for the sake of numerical stability and saved time complexity.\n",
    "An accumulator that constantly multiplies by 2 saves us compute time."
   ]
  },
  {
   "cell_type": "code",
   "execution_count": 2,
   "outputs": [
    {
     "name": "stdout",
     "output_type": "stream",
     "text": [
      "Requirement already satisfied: tqdm in /Users/anirudhkamath/opt/anaconda3/envs/MATH7203/lib/python3.8/site-packages (4.55.1)\r\n",
      "Requirement already satisfied: matplotlib in /Users/anirudhkamath/opt/anaconda3/envs/MATH7203/lib/python3.8/site-packages (3.3.3)\r\n",
      "Requirement already satisfied: pillow>=6.2.0 in /Users/anirudhkamath/opt/anaconda3/envs/MATH7203/lib/python3.8/site-packages (from matplotlib) (8.1.0)\r\n",
      "Requirement already satisfied: kiwisolver>=1.0.1 in /Users/anirudhkamath/opt/anaconda3/envs/MATH7203/lib/python3.8/site-packages (from matplotlib) (1.3.1)\r\n",
      "Requirement already satisfied: pyparsing!=2.0.4,!=2.1.2,!=2.1.6,>=2.0.3 in /Users/anirudhkamath/opt/anaconda3/envs/MATH7203/lib/python3.8/site-packages (from matplotlib) (2.4.7)\r\n",
      "Requirement already satisfied: cycler>=0.10 in /Users/anirudhkamath/opt/anaconda3/envs/MATH7203/lib/python3.8/site-packages (from matplotlib) (0.10.0)\r\n",
      "Requirement already satisfied: numpy>=1.15 in /Users/anirudhkamath/opt/anaconda3/envs/MATH7203/lib/python3.8/site-packages (from matplotlib) (1.19.5)\r\n",
      "Requirement already satisfied: python-dateutil>=2.1 in /Users/anirudhkamath/opt/anaconda3/envs/MATH7203/lib/python3.8/site-packages (from matplotlib) (2.8.1)\r\n",
      "Requirement already satisfied: six in /Users/anirudhkamath/opt/anaconda3/envs/MATH7203/lib/python3.8/site-packages (from cycler>=0.10->matplotlib) (1.15.0)\r\n",
      "Requirement already satisfied: numpy in /Users/anirudhkamath/opt/anaconda3/envs/MATH7203/lib/python3.8/site-packages (1.19.5)\r\n"
     ]
    }
   ],
   "source": [
    "! pip3 install tqdm\n",
    "! pip3 install matplotlib\n",
    "! pip3 install numpy"
   ],
   "metadata": {
    "collapsed": false,
    "pycharm": {
     "name": "#%%\n"
    }
   }
  },
  {
   "cell_type": "code",
   "execution_count": 36,
   "outputs": [
    {
     "name": "stderr",
     "output_type": "stream",
     "text": [
      "100%|██████████| 10004/10004 [00:00<00:00, 349630.18it/s]\n"
     ]
    },
    {
     "name": "stdout",
     "output_type": "stream",
     "text": [
      "Custom function 0.6931471805599451\n",
      "NumPy Approximation 0.6931471805599453\n",
      "Final Error: 2.220446049250313e-16\n",
      "Bits allocated for a float: 64\n"
     ]
    },
    {
     "data": {
      "text/plain": "<Figure size 432x288 with 1 Axes>",
      "image/png": "[encoded data removed]"
     },
     "metadata": {
      "needs_background": "light"
     },
     "output_type": "display_data"
    }
   ],
   "source": [
    "import matplotlib.pyplot as plt\n",
    "import numpy as np\n",
    "from tqdm import tqdm\n",
    "\n",
    "def compute_sum(N):\n",
    "    # Accumulator to constantly multiply by 2\n",
    "    power_of_2 = 1\n",
    "    acc_sum = 0\n",
    "    err = []\n",
    "    interval = int(np.log10(N)) - 1\n",
    "\n",
    "    for k in tqdm(range(1, N + 1)):\n",
    "        power_of_2 *= 2\n",
    "        # last sum as last element of the array\n",
    "        acc_sum += 1 / (k * power_of_2)\n",
    "        err.append(abs(acc_sum - np.log(2)))\n",
    "    # plt.plot(err)\n",
    "    # plt.scatter(range(len(err)), err)\n",
    "    plt.ylabel(\"Absolute Error\")\n",
    "    plt.xlabel(f\"N=k\")\n",
    "    plt.title(\"Error in log(2) series computation\")\n",
    "    plt.loglog(err)\n",
    "    return acc_sum\n",
    "\n",
    "ans = compute_sum(10004)\n",
    "act = np.log(2)\n",
    "print(\"Custom function\", ans)\n",
    "print(\"NumPy Approximation\", act)\n",
    "print(\"Final Error:\", abs(act - ans))"
   ],
   "metadata": {
    "collapsed": false,
    "pycharm": {
     "name": "#%%\n"
    }
   }
  },
  {
   "cell_type": "markdown",
   "source": [
    "As can be seen, there's a decreasing error as $N \\rightarrow 64$ and then flatlines after 64.\n",
    "This is because floats occupy 64 bits. When k > 64, the computer can't compute more specific differences."
   ],
   "metadata": {
    "collapsed": false,
    "pycharm": {
     "name": "#%% md\n"
    }
   }
  },
  {
   "cell_type": "code",
   "execution_count": 38,
   "outputs": [
    {
     "name": "stdout",
     "output_type": "stream",
     "text": [
      "Bits allocated for a float: 64\n"
     ]
    }
   ],
   "source": [
    "print(\"Bits allocated for a float:\", np.finfo(float).bits)"
   ],
   "metadata": {
    "collapsed": false,
    "pycharm": {
     "name": "#%%\n"
    }
   }
  }
 ],
 "metadata": {
  "kernelspec": {
   "display_name": "Python 3",
   "language": "python",
   "name": "python3"
  },
  "language_info": {
   "codemirror_mode": {
    "name": "ipython",
    "version": 2
   },
   "file_extension": ".py",
   "mimetype": "text/x-python",
   "name": "python",
   "nbconvert_exporter": "python",
   "pygments_lexer": "ipython2",
   "version": "2.7.6"
  }
 },
 "nbformat": 4,
 "nbformat_minor": 0
}