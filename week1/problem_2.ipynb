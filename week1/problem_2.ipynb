{
 "cells": [
  {
   "cell_type": "code",
   "execution_count": 2,
   "metadata": {
    "collapsed": true
   },
   "outputs": [],
   "source": [
    "# Calculate ln of a number z with tolerance tol and stop at max_iter iterations\n",
    "def ln(z, tol=1e-9, max_iter=10000):\n",
    "\n",
    "    term = 1\n",
    "    neg = 1\n",
    "    y = 0\n",
    "    for i in range(1, max_iter + 1):\n",
    "        # Coefficient as (-1)**i / i\n",
    "        coeff = neg / i\n",
    "\n",
    "        # Term accumulator\n",
    "        term *= (z - 1)\n",
    "\n",
    "        # Next value in series (coefficient * (z - 1) * accumulator)\n",
    "        toAdd = coeff * term\n",
    "\n",
    "        # Stop iterating if value is below tol\n",
    "        if abs(toAdd) < tol:\n",
    "            return y\n",
    "\n",
    "        y += toAdd\n",
    "        # Integers are numerically stable, so it's fine to do -1^n instead of an if statement that flips the sign\n",
    "        neg *= -1\n",
    "    return y"
   ]
  },
  {
   "cell_type": "code",
   "execution_count": 3,
   "outputs": [
    {
     "name": "stdout",
     "output_type": "stream",
     "text": [
      "ALL 100 TESTS PASSED\n"
     ]
    }
   ],
   "source": [
    "import random\n",
    "import math\n",
    "n_tests = 100\n",
    "tol = 1e-8\n",
    "\n",
    "failed = False\n",
    "for _ in range(n_tests):\n",
    "    check = random.random() * 2\n",
    "    res = ln(check)\n",
    "    z_roundtrip = math.exp(res)\n",
    "    delta = abs(z_roundtrip - check)\n",
    "    if delta > tol:\n",
    "        print(f\"\\n----------- FAILED ----------- {_}/{n_tests} Error: ±\", delta, \"\\n\")\n",
    "        failed = True\n",
    "\n",
    "if not failed:\n",
    "    print(f\"ALL {n_tests} TESTS PASSED\")"
   ],
   "metadata": {
    "collapsed": false,
    "pycharm": {
     "name": "#%%\n"
    }
   }
  },
  {
   "cell_type": "code",
   "execution_count": null,
   "outputs": [],
   "source": [],
   "metadata": {
    "collapsed": false,
    "pycharm": {
     "name": "#%%\n"
    }
   }
  }
 ],
 "metadata": {
  "kernelspec": {
   "display_name": "Python 3",
   "language": "python",
   "name": "python3"
  },
  "language_info": {
   "codemirror_mode": {
    "name": "ipython",
    "version": 2
   },
   "file_extension": ".py",
   "mimetype": "text/x-python",
   "name": "python",
   "nbconvert_exporter": "python",
   "pygments_lexer": "ipython2",
   "version": "2.7.6"
  }
 },
 "nbformat": 4,
 "nbformat_minor": 0
}