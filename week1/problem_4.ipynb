{
 "cells": [
  {
   "cell_type": "markdown",
   "source": [
    "Beta Function: $ B(x, y) = \\int_{0}^{1} t^{x-1} (1-t)^{y-1} \\,dt $\n",
    "\n",
    "Identity: $ B(x, y) = \\frac{\\Gamma(x) \\Gamma(y)}{\\Gamma(x + y)} $"
   ],
   "metadata": {
    "collapsed": false,
    "pycharm": {
     "name": "#%% md\n"
    }
   }
  },
  {
   "cell_type": "code",
   "execution_count": 13,
   "outputs": [
    {
     "name": "stdout",
     "output_type": "stream",
     "text": [
      "Requirement already satisfied: scipy in /Users/anirudhkamath/opt/anaconda3/envs/MATH7203/lib/python3.8/site-packages (1.6.0)\r\n",
      "Requirement already satisfied: numpy>=1.16.5 in /Users/anirudhkamath/opt/anaconda3/envs/MATH7203/lib/python3.8/site-packages (from scipy) (1.19.5)\r\n"
     ]
    }
   ],
   "source": [
    "!pip3 install scipy"
   ],
   "metadata": {
    "collapsed": false,
    "pycharm": {
     "name": "#%%\n"
    }
   }
  },
  {
   "cell_type": "code",
   "execution_count": 8,
   "metadata": {
    "collapsed": true
   },
   "outputs": [
    {
     "name": "stdout",
     "output_type": "stream",
     "text": [
      "0.1\n",
      "0.006932449771990446 0.04828103473772867 0.0\n",
      "0.019157220119865162 0.08166651001402234 0.0\n",
      "0.007442385295430754 0.004861232946124217 0.0\n",
      "0.0007812142286880764 0.026428580711246798 2.2737367544323206e-13\n",
      "0.07842381482566893 0.05871552203486278 0.0\n",
      "\n",
      "\n",
      "1\n",
      "0.870917086067768 0.622855793031461 0.0\n",
      "0.8967479614009818 0.41271013261827094 0.0\n",
      "0.439560107950424 0.060021370872383795 0.0\n",
      "0.2642624291897313 0.47766195434622905 8.881784197001252e-16\n",
      "0.8187854184896156 0.6532479793181493 0.0\n",
      "\n",
      "\n",
      "10\n",
      "0.3827055967734072 9.886469275116669 1.1102230246251565e-16\n",
      "4.720487339624722 5.065172493358288 0.0\n",
      "2.308865517147336 3.6085500520228053 0.0\n",
      "3.2458882525533017 8.43894694566321 0.0\n",
      "0.26185881450872306 2.2110370810153146 0.0\n",
      "\n",
      "\n",
      "100\n",
      "57.5669418846391 57.58173344274064 0.0\n",
      "20.562094891580408 9.444559968359867 0.0\n",
      "31.090121511747416 8.499067314149455 2.0679515313825692e-25\n",
      "97.7900172416778 65.03613307956068 1.5192908393215678e-64\n",
      "23.16315765597652 35.32824244674041 7.703719777548943e-34\n",
      "\n",
      "\n"
     ]
    }
   ],
   "source": [
    "from scipy.special import beta, gamma, gammaln\n",
    "from random import random\n",
    "from math import exp\n",
    "\n",
    "def mybeta_naive(x, y):\n",
    "    return gamma(x) * gamma(y) / gamma(x + y)\n",
    "\n",
    "for i in range(-1, 3):\n",
    "    print(10**i)\n",
    "    for _ in range(5):\n",
    "        x = random() * 10**i\n",
    "        y = random() * 10**i\n",
    "        print(x, y, abs(mybeta_naive(x, y) - beta(x, y)))\n",
    "    print('\\n')"
   ]
  },
  {
   "cell_type": "code",
   "execution_count": 6,
   "outputs": [
    {
     "name": "stderr",
     "output_type": "stream",
     "text": [
      "<ipython-input-5-2cb6e8e13912>:5: RuntimeWarning: overflow encountered in double_scalars\n",
      "  return gamma(x) * gamma(y) / gamma(x + y)\n",
      "<ipython-input-5-2cb6e8e13912>:5: RuntimeWarning: invalid value encountered in double_scalars\n",
      "  return gamma(x) * gamma(y) / gamma(x + y)\n"
     ]
    },
    {
     "data": {
      "text/plain": "nan"
     },
     "execution_count": 6,
     "metadata": {},
     "output_type": "execute_result"
    }
   ],
   "source": [
    "mybeta_naive(100, 100) # -> Problem! Overflow error"
   ],
   "metadata": {
    "collapsed": false,
    "pycharm": {
     "name": "#%%\n"
    }
   }
  },
  {
   "cell_type": "code",
   "execution_count": 10,
   "outputs": [
    {
     "name": "stdout",
     "output_type": "stream",
     "text": [
      "0.1\n",
      "0.033151588189694874 0.09717869318684198 2.842170943040401e-14\n",
      "0.04391966871035318 0.023171514750272428 0.0\n",
      "0.04664608494042371 0.09321603847948882 1.0658141036401503e-14\n",
      "0.01695831969929168 0.027566953652974083 1.2789769243681803e-13\n",
      "0.041360249122334616 0.013882518892570429 4.263256414560601e-14\n",
      "\n",
      "\n",
      "1\n",
      "0.5801578726013882 0.8898154279442922 0.0\n",
      "0.9679230196185944 0.9391115219243834 2.220446049250313e-16\n",
      "0.2927544459139647 0.32875443677808236 0.0\n",
      "0.9534044629619294 0.16945801152066553 8.881784197001252e-16\n",
      "0.8162911810083653 0.4370972217477981 0.0\n",
      "\n",
      "\n",
      "10\n",
      "1.9386256390386347 3.8083529961361595 6.938893903907228e-18\n",
      "4.445712647441303 7.669780329840908 7.589415207398531e-19\n",
      "5.820469908527813 9.556687699702358 4.743384504624082e-20\n",
      "5.809730253769408 3.0819286850582026 8.673617379884035e-19\n",
      "5.219848681731437 7.917056666760443 1.6263032587282567e-19\n",
      "\n",
      "\n",
      "100\n",
      "68.75010382688808 53.5136495542787 2.1068903066273636e-50\n",
      "77.30604157440052 87.95639319117701 2.032051497592597e-63\n",
      "49.926365427261665 99.96306246033288 4.842999409842655e-56\n",
      "73.44592670919045 9.245529420281562 3.887506540929146e-27\n",
      "93.10347213887134 89.94967807830848 1.702467666819422e-69\n",
      "\n",
      "\n"
     ]
    }
   ],
   "source": [
    "def mybeta_ln(x, y):\n",
    "    return exp(gammaln(x) + gammaln(y) - gammaln(x + y))\n",
    "\n",
    "for i in range(-1, 3):\n",
    "    print(10**i)\n",
    "    for _ in range(5):\n",
    "        x = random() * 10**i\n",
    "        y = random() * 10**i\n",
    "        print(x, y, abs(mybeta_ln(x, y) - beta(x, y)))\n",
    "    print('\\n')"
   ],
   "metadata": {
    "collapsed": false,
    "pycharm": {
     "name": "#%%\n"
    }
   }
  },
  {
   "cell_type": "code",
   "execution_count": 11,
   "outputs": [
    {
     "data": {
      "text/plain": "2.2087606931994364e-61"
     },
     "execution_count": 11,
     "metadata": {},
     "output_type": "execute_result"
    }
   ],
   "source": [
    "mybeta_ln(100, 100) # -> Actual answer! Using logarithms prevents large computations that Python will interpret as inf\n",
    "# Interpreting large numbers as inf is dangerous, because inf/inf = nan, but using logs significantly reduces those numbers\n",
    "# Thereby giving us an actual answer\n",
    "\n"
   ],
   "metadata": {
    "collapsed": false,
    "pycharm": {
     "name": "#%%\n"
    }
   }
  }
 ],
 "metadata": {
  "kernelspec": {
   "display_name": "Python 3",
   "language": "python",
   "name": "python3"
  },
  "language_info": {
   "codemirror_mode": {
    "name": "ipython",
    "version": 2
   },
   "file_extension": ".py",
   "mimetype": "text/x-python",
   "name": "python",
   "nbconvert_exporter": "python",
   "pygments_lexer": "ipython2",
   "version": "2.7.6"
  }
 },
 "nbformat": 4,
 "nbformat_minor": 0
}