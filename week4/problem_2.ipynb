{
 "cells": [
  {
   "cell_type": "markdown",
   "metadata": {
    "collapsed": true,
    "pycharm": {
     "name": "#%% md\n"
    }
   },
   "source": [
    "In class we discussed Gaussian elimination as the basic method used to solve the dense linear system $Ax=b$.\n",
    "There are two steps to the Gaussian elimination algorithm:  1. forward elimination and 2. backsubstitution.\n",
    "The goal of this problem is to write a program which implements backsubstitution given an upper triangular matrix U and column vector b,\n",
    "i.e. the function solves $Ux=b$.\n",
    "I have placed an \"app note\" on Canvas under Modules → Class 4 describing the exact algorithm useful to solve $Ux=b$.\n",
    "Please refer to that note when doing this problem.  Please do the following:\n",
    "\n",
    "## Write a program using for loops to solve $Ux=b$ for $x$ via backsubstitution.  Your program should take as inputs matrix $U$ and vector $b$, and return the vector $x$."
   ]
  },
  {
   "cell_type": "code",
   "execution_count": 1,
   "outputs": [],
   "source": [
    "import numpy as np\n",
    "\n",
    "def backsub(U, b):\n",
    "    '''\n",
    "    Since indexing was kind of a pain, I did a small trick and reversed every row and reversed the whole matrix\n",
    "\n",
    "    Granted, this \"takes longer\" than doing the index arithmetic, but asymptotically it remains n^2 runtime, and given\n",
    "    that this is not production software, I thought it would be okay for the purposes\n",
    "    '''\n",
    "\n",
    "    U = [np.flip(a) for a in U]\n",
    "    U.reverse()\n",
    "    U = np.array(U)\n",
    "    b = np.flip(b)\n",
    "\n",
    "    # print(U)\n",
    "    ans = [None for _ in b]\n",
    "    for x in range(len(U)):\n",
    "        temp = 0\n",
    "        for y in range(len(U[x])):\n",
    "            val = U[x][y]\n",
    "            # print(x, y, val)\n",
    "            if ans[y] is not None:\n",
    "                temp += ans[y] * val\n",
    "            else:\n",
    "                ans[x] = (b[x] - temp) / val\n",
    "                # print(\"ANS\", b[x], \"ACC\", temp, \"VAL\", val)\n",
    "                U[x] = np.zeros(len(b))\n",
    "                U[x][y] = 1\n",
    "                break\n",
    "        # print('')\n",
    "\n",
    "    ans.reverse()\n",
    "    # print(U)\n",
    "    # print(ans)\n",
    "    return np.array(ans)"
   ],
   "metadata": {
    "collapsed": false,
    "pycharm": {
     "name": "#%%\n"
    }
   }
  },
  {
   "cell_type": "markdown",
   "source": [
    "## Write tests for your program.  As a test I suggest you create a bunch of random matrices A of different sizes, then use Matlab’s `lu()` function to generate an upper triangular U from A to feed your program.  (You could also just write a looping program to generate the U if desired.) Compute the solution x using your program, then compute the residual $b−Ux$ and verify it is small."
   ],
   "metadata": {
    "collapsed": false,
    "pycharm": {
     "name": "#%% md\n"
    }
   }
  },
  {
   "cell_type": "code",
   "execution_count": 7,
   "outputs": [
    {
     "name": "stdout",
     "output_type": "stream",
     "text": [
      "WORKED. ± 1.0765592574540421e-13\n",
      "WORKED (NumPy). ± 0.0\n",
      "WORKED. ± 1.0207246880630914e-14\n",
      "WORKED (NumPy). ± -2.7755575615628914e-17\n",
      "WORKED. ± 5.243582632058214e-15\n",
      "WORKED (NumPy). ± -1.850371707708594e-17\n",
      "WORKED. ± 2.754987418597653e-14\n",
      "WORKED (NumPy). ± 0.0\n",
      "WORKED. ± 1.8781942023797546e-15\n",
      "WORKED (NumPy). ± 3.700743415417188e-17\n",
      "WORKED. ± 5.4848159036487024e-14\n",
      "WORKED (NumPy). ± 5.551115123125783e-17\n",
      "WORKED. ± 8.198670082505819e-15\n",
      "WORKED (NumPy). ± 1.850371707708594e-17\n",
      "WORKED. ± 6.676169506934103e-15\n",
      "WORKED (NumPy). ± -3.172065784643304e-17\n",
      "WORKED. ± 2.3533454472440133e-14\n",
      "WORKED (NumPy). ± -9.868649107779169e-17\n",
      "WORKED. ± 1.4903629752795237e-14\n",
      "WORKED (NumPy). ± 0.0\n"
     ]
    }
   ],
   "source": [
    "# Test suite\n",
    "for i in range(10):\n",
    "    # Create a bunch of random matrices A of different sizes\n",
    "    shape = np.random.randint(3, 10)\n",
    "    A = ((np.random.rand(shape, shape) + .1) * 10).astype(int)\n",
    "\n",
    "    # Use Matlab’s lu() function to generate an upper triangular U from A to feed your program\n",
    "    U = np.triu(A)\n",
    "    b = (np.random.rand(shape) * 10).astype(int)\n",
    "\n",
    "    # Compute the solution x using your program, then compute the residual $b−Ux$ and verify it is small.\n",
    "    x = backsub(U, b)\n",
    "    res = b - np.dot(U, x)\n",
    "\n",
    "    # As testing tolerance I suggest you employ the matrix condition number to generate a tolerance for each new matrix by tol=eps(1)*cond(U)\n",
    "    tol = np.finfo(float).eps*np.linalg.cond(U)\n",
    "\n",
    "    if any(res > tol):\n",
    "        print(\"DIDN'T WORK\")\n",
    "        print(x)\n",
    "        print(res)\n",
    "        print('\\n')\n",
    "    else:\n",
    "        print(\"WORKED. ±\", tol)\n",
    "\n",
    "    # Verify via NumPy\n",
    "    act = np.linalg.solve(U, b)\n",
    "    if any(x - act > tol):\n",
    "        print(\"DIDN'T WORK\")\n",
    "        print(x)\n",
    "        print(act)\n",
    "        print('\\n')\n",
    "    else:\n",
    "        print(\"WORKED (NumPy). ±\", sum(x - act) / len(x))\n",
    "\n",
    "\n"
   ],
   "metadata": {
    "collapsed": false,
    "pycharm": {
     "name": "#%%\n"
    }
   }
  },
  {
   "cell_type": "code",
   "execution_count": 2,
   "outputs": [],
   "source": [],
   "metadata": {
    "collapsed": false,
    "pycharm": {
     "name": "#%%\n"
    }
   }
  }
 ],
 "metadata": {
  "kernelspec": {
   "display_name": "Python 3",
   "language": "python",
   "name": "python3"
  },
  "language_info": {
   "codemirror_mode": {
    "name": "ipython",
    "version": 2
   },
   "file_extension": ".py",
   "mimetype": "text/x-python",
   "name": "python",
   "nbconvert_exporter": "python",
   "pygments_lexer": "ipython2",
   "version": "2.7.6"
  }
 },
 "nbformat": 4,
 "nbformat_minor": 0
}