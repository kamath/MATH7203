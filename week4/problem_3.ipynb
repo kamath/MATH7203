{
 "cells": [
  {
   "cell_type": "markdown",
   "metadata": {
    "collapsed": true,
    "pycharm": {
     "name": "#%% md\n"
    }
   },
   "source": [
    "In this problem we build an algorithm to compute the inverse of a lower triangular matrix L.\n",
    "\n",
    "We’ll use the tautology $L^{−1}L=I$, where $I$ is the identity matrix.\n",
    "\n",
    "We know the elements of both L and I; the goal is to compute the elements of $L^{−1}$.\n",
    "But first, what is the shape of the inverse matrix $L^{−1}$?  It turns out that if $L$ is lower triangular then $L^{−1}$ is also lower triangular.\n",
    "\n",
    "This is a provable theorem, but for this problem you can just accept it as a fact.\n",
    "\n",
    "Please do the following:\n",
    "\n",
    "1. Knowing $L^{−1}L=I$, derive the equations which each element of $L^{−1}$ must obey.\n",
    "This is a pencil and paper exercise.\n",
    "I suggest you use write down the relation in terms of 3x3 matrices and create a table of equations for the elements of $L^{−1}$.\n",
    "To help you I show a portion of my table.  (In my table I have named the elements of $L^{−1}$ as $q_{j,i}$)\n",
    "\n",
    "$$L^{-1} = q = \\begin{pmatrix} q_{1,1} & 0 & 0 \\\\ q_{2,1} & q_{2,2} & 0 \\\\ q_{3,1} & q_{3,2} & q_{3,3} \\end{pmatrix}$$\n",
    "\n",
    "$$L = \\begin{pmatrix} L_{1,1} & 0 & 0 \\\\ L_{2,1} & L_{2,2} & 0 \\\\ L_{3,1} & L_{3,2} & L_{3,3} \\end{pmatrix}$$\n",
    "\n",
    "Apologize for this being a little messy, but:\n",
    "\n",
    "$$L^{-1}L = \\begin{pmatrix} q_{1,1}L_{1,1} & 0 & 0 \\\\ q_{2,1}L_{1,1} + q_{2,2}L_{2,1} & q_{2,2}L_{2,2} & 0 \\\\ q_{3,1}L_{1,1} + q_{3,2}L_{2,1} + q_{3,3}L_{3,1} & q_{3,2}L_{2,2} + q_{3,3}L_{3,2} & q_{3,3}L_{3,3} \\end{pmatrix}$$\n",
    "\n",
    "$$= $$\n",
    "\n",
    "Observations:\n",
    "\n",
    "- $i=j \\rightarrow L^{-1}L_{ij} = \\frac{1}{L_{ij}}$"
   ]
  },
  {
   "cell_type": "code",
   "execution_count": 74,
   "outputs": [],
   "source": [
    "import numpy as np\n",
    "\n",
    "def backsub(U, b):\n",
    "    '''\n",
    "    Since indexing was kind of a pain, I did a small trick and reversed every row and reversed the whole matrix\n",
    "\n",
    "    Granted, this \"takes longer\" than doing the index arithmetic, but asymptotically it remains n^2 runtime, and given\n",
    "    that this is not production software, I thought it would be okay for the purposes\n",
    "    '''\n",
    "\n",
    "    # U = [np.flip(a) for a in U]\n",
    "    # U = list(U)\n",
    "    # U.reverse()\n",
    "    U = np.array(U)\n",
    "    # b = np.flip(b)\n",
    "    # print(U)\n",
    "\n",
    "    ans = [None for _ in b]\n",
    "    for x in range(len(U)):\n",
    "        temp = 0\n",
    "        for y in range(len(U[x])):\n",
    "            val = U[x][y]\n",
    "            # print(x, y, val)\n",
    "            if ans[y] is not None:\n",
    "                temp += ans[y] * val\n",
    "            else:\n",
    "                ans[x] = (b[x] - temp) / val\n",
    "                # print(\"ANS\", b[x], \"ACC\", temp, \"VAL\", val)\n",
    "                U[x] = np.zeros(len(b))\n",
    "                U[x][y] = 1\n",
    "                break\n",
    "        # print('')\n",
    "\n",
    "    ans.reverse()\n",
    "    # print(U)\n",
    "    # print(ans)\n",
    "    return np.array(ans)\n",
    "\n",
    "\n",
    "\n",
    "L = np.array([[1, 0, 0], [2, 3, 0], [4, 5, 6]])\n",
    "arr = []\n",
    "for a in np.identity(3):\n",
    "    arr.append(backsub(L, a))"
   ],
   "metadata": {
    "collapsed": false,
    "pycharm": {
     "name": "#%%\n"
    }
   }
  },
  {
   "cell_type": "code",
   "execution_count": 78,
   "outputs": [
    {
     "name": "stdout",
     "output_type": "stream",
     "text": [
      "WORKED ± 1.2893831666008856e-14\n",
      "WORKED ± 5.551115123125783e-17\n",
      "WORKED ± 2.1811097073808348e-15\n",
      "WORKED ± 3.015840945243308e-14\n",
      "WORKED ± 3.6955587428207345e-15\n",
      "WORKED ± 1.3743915342634358e-15\n",
      "WORKED ± 0.0\n",
      "WORKED ± 9.867878089448544e-16\n",
      "WORKED ± 1.3829492337514177e-14\n",
      "WORKED ± 5.693514670484434e-16\n",
      "WORKED ± 2.2631400059792723e-14\n",
      "WORKED ± 3.864135383994691e-15\n",
      "WORKED ± 3.5218971043787685e-15\n",
      "WORKED ± 5.003707553108401e-16\n",
      "WORKED ± 9.159339953157541e-16\n",
      "WORKED ± 1.1129951213863744e-15\n",
      "WORKED ± 1.1999271754668687e-15\n",
      "WORKED ± 0.0\n",
      "WORKED ± 0.0\n",
      "WORKED ± 1.0579936123048482e-15\n"
     ]
    }
   ],
   "source": [
    "# Write a program which implements your algorithm and test it using lower triangular matrices of different sizes.\n",
    "\n",
    "for i in range(20):\n",
    "    # Create a bunch of random matrices A of different sizes\n",
    "    shape = np.random.randint(3, 10)\n",
    "    A = ((np.random.rand(shape, shape) + .1) * 10).astype(int)\n",
    "\n",
    "    # Use Matlab’s lu() function to generate an upper triangular U from A to feed your program\n",
    "    L = np.tril(A)\n",
    "    b = np.identity(shape)\n",
    "    arr = []\n",
    "    for a in np.identity(shape):\n",
    "        arr.append(backsub(L, a))\n",
    "    arr = np.array(arr)\n",
    "    arr = np.rot90(arr)\n",
    "\n",
    "    # To test I suggest you compute the residual r=‖L−1L−I‖ and verify it remains below a tolerance.\n",
    "    res = np.linalg.norm(np.dot(arr, L) - np.identity(shape))\n",
    "\n",
    "    # As testing tolerance I suggest you employ the matrix condition number to generate a tolerance for each new matrix by tol=eps(1)*cond(L)\n",
    "    tol = np.finfo(float).eps*np.linalg.cond(L)\n",
    "\n",
    "    if res > tol:\n",
    "        print(\"DIDN'T WORK\")\n",
    "        print(L)\n",
    "        print(np.linalg.inv(L))\n",
    "        print('\\n')\n",
    "    else:\n",
    "        print(\"WORKED ±\", res)\n",
    "    # print(\"ACTUAL\", np.linalg.inv(L), '\\n\\n', \"MINE\", arr)"
   ],
   "metadata": {
    "collapsed": false,
    "pycharm": {
     "name": "#%%\n"
    }
   }
  },
  {
   "cell_type": "markdown",
   "source": [
    "## What is the time complexity of your algorithm?\n",
    "$O(n^3)$ since it goes through every row and every column of L and Q, and also every column of the identity.\n"
   ],
   "metadata": {
    "collapsed": false,
    "pycharm": {
     "name": "#%% md\n"
    }
   }
  },
  {
   "cell_type": "code",
   "execution_count": null,
   "outputs": [],
   "source": [],
   "metadata": {
    "collapsed": false,
    "pycharm": {
     "name": "#%%\n"
    }
   }
  }
 ],
 "metadata": {
  "kernelspec": {
   "display_name": "Python 3",
   "language": "python",
   "name": "python3"
  },
  "language_info": {
   "codemirror_mode": {
    "name": "ipython",
    "version": 2
   },
   "file_extension": ".py",
   "mimetype": "text/x-python",
   "name": "python",
   "nbconvert_exporter": "python",
   "pygments_lexer": "ipython2",
   "version": "2.7.6"
  }
 },
 "nbformat": 4,
 "nbformat_minor": 0
}