{
 "cells": [
  {
   "cell_type": "markdown",
   "metadata": {
    "collapsed": true,
    "pycharm": {
     "name": "#%% md\n"
    }
   },
   "source": [
    "A simple analysis of this truss is performed by considering the force balance equations.  This may be expressed as a matrix which relates the unknown internal forces on all beams to the known externally applied forces (i.e. the truck).  The reaction forces pushing on the bridge are regarded as internal forces since they are unknown.  We write this relation as\n",
    "\n",
    "$Af_i=−f_e$\n",
    "\n",
    "Where $f_i$ is a vector (list) of the internal forces on each beam, and fe is the vector of known external forces. The matrix A holds the information detailing how the forces interact, i.e. the structure of the bridge.  The goal is to find the internal forces $f_i$.\n",
    "\n",
    "![truss.png](truss.png)\n",
    "\n",
    "## 1. Complete the above analysis and write down the entire matrix equation describing the forces at each joint.\n",
    "\n",
    "### Left positive, right negative\n",
    "$$a_x \\rightarrow -f_1cos(45)-f_2+r_{ax} = 0$$\n",
    "\n",
    "$$a_y \\rightarrow -f_1sin(45)+r_{ay} = 0$$\n",
    "\n",
    "$$b_x \\rightarrow f_1cos(45) + f_4 = 0$$\n",
    "\n",
    "$$b_y \\rightarrow f_1sin(45) + f_3 = 0 $$\n",
    "\n",
    "$$c_x \\rightarrow f_2 - f_5cos(45) - f_6 = 0$$\n",
    "\n",
    "$$c_y \\rightarrow -f_3 - f_5sin(45) = -T_c$$\n",
    "\n",
    "$$d_x \\rightarrow f_4 + f_5cos(45) - f_8cos(45) = 0$$\n",
    "\n",
    "$$d_y \\rightarrow f_5sin(45) + f_7 + f_8sin(45) $$\n",
    "\n",
    "$$e_x \\rightarrow f_6 - f_9 = 0$$\n",
    "\n",
    "$$e_y \\rightarrow -f_7 = -T_e$$\n",
    "\n",
    "$$f_x \\rightarrow f_8 + f_9 = 0$$\n",
    "\n",
    "$$f_y \\rightarrow -f_8sin(45) + r_{fy} = 0$$"
   ]
  },
  {
   "cell_type": "code",
   "execution_count": 51,
   "metadata": {
    "pycharm": {
     "name": "#%%\n"
    }
   },
   "outputs": [
    {
     "data": {
      "text/plain": "           f1   f2   f3   f4        f5   f6   f7        f8   f9  Rax  Ray  Rfy\nrow                                                                           \nax  -0.707107 -1.0  0.0  0.0  0.000000  0.0  0.0  0.000000  0.0  1.0  0.0  0.0\nay  -0.707107  0.0  0.0  0.0  0.000000  0.0  0.0  0.000000  0.0  0.0  1.0  0.0\nbx   0.707107  0.0  0.0  1.0  0.000000  0.0  0.0  0.000000  0.0  0.0  0.0  0.0\nby   0.707107  0.0  1.0  0.0  0.000000  0.0  0.0  0.000000  0.0  0.0  0.0  0.0\ncx   0.000000  1.0  0.0  0.0 -0.707107 -1.0  0.0  0.000000  0.0  0.0  0.0  0.0\ncy   0.000000  0.0 -1.0  0.0 -0.707107  0.0  0.0  0.000000  0.0  0.0  0.0  0.0\ndx   0.000000  0.0  0.0  1.0  0.707107  0.0  0.0 -0.707107  0.0  0.0  0.0  0.0\ndy   0.000000  0.0  0.0  0.0  0.707107  0.0  1.0  0.707107  0.0  0.0  0.0  0.0\nex   0.000000  0.0  0.0  0.0  0.000000  1.0  0.0  0.000000 -1.0  0.0  0.0  0.0\ney   0.000000  0.0  0.0  0.0  0.000000  0.0 -1.0  0.000000  0.0  0.0  0.0  0.0\nfx   0.000000  0.0  0.0  0.0  0.000000  0.0  0.0  1.000000  1.0  0.0  0.0  0.0\nfy   0.000000  0.0  0.0  0.0  0.000000  0.0  0.0 -0.707107  0.0  0.0  0.0  1.0",
      "text/html": "<div>\n<style scoped>\n    .dataframe tbody tr th:only-of-type {\n        vertical-align: middle;\n    }\n\n    .dataframe tbody tr th {\n        vertical-align: top;\n    }\n\n    .dataframe thead th {\n        text-align: right;\n    }\n</style>\n<table border=\"1\" class=\"dataframe\">\n  <thead>\n    <tr style=\"text-align: right;\">\n      <th></th>\n      <th>f1</th>\n      <th>f2</th>\n      <th>f3</th>\n      <th>f4</th>\n      <th>f5</th>\n      <th>f6</th>\n      <th>f7</th>\n      <th>f8</th>\n      <th>f9</th>\n      <th>Rax</th>\n      <th>Ray</th>\n      <th>Rfy</th>\n    </tr>\n    <tr>\n      <th>row</th>\n      <th></th>\n      <th></th>\n      <th></th>\n      <th></th>\n      <th></th>\n      <th></th>\n      <th></th>\n      <th></th>\n      <th></th>\n      <th></th>\n      <th></th>\n      <th></th>\n    </tr>\n  </thead>\n  <tbody>\n    <tr>\n      <th>ax</th>\n      <td>-0.707107</td>\n      <td>-1.0</td>\n      <td>0.0</td>\n      <td>0.0</td>\n      <td>0.000000</td>\n      <td>0.0</td>\n      <td>0.0</td>\n      <td>0.000000</td>\n      <td>0.0</td>\n      <td>1.0</td>\n      <td>0.0</td>\n      <td>0.0</td>\n    </tr>\n    <tr>\n      <th>ay</th>\n      <td>-0.707107</td>\n      <td>0.0</td>\n      <td>0.0</td>\n      <td>0.0</td>\n      <td>0.000000</td>\n      <td>0.0</td>\n      <td>0.0</td>\n      <td>0.000000</td>\n      <td>0.0</td>\n      <td>0.0</td>\n      <td>1.0</td>\n      <td>0.0</td>\n    </tr>\n    <tr>\n      <th>bx</th>\n      <td>0.707107</td>\n      <td>0.0</td>\n      <td>0.0</td>\n      <td>1.0</td>\n      <td>0.000000</td>\n      <td>0.0</td>\n      <td>0.0</td>\n      <td>0.000000</td>\n      <td>0.0</td>\n      <td>0.0</td>\n      <td>0.0</td>\n      <td>0.0</td>\n    </tr>\n    <tr>\n      <th>by</th>\n      <td>0.707107</td>\n      <td>0.0</td>\n      <td>1.0</td>\n      <td>0.0</td>\n      <td>0.000000</td>\n      <td>0.0</td>\n      <td>0.0</td>\n      <td>0.000000</td>\n      <td>0.0</td>\n      <td>0.0</td>\n      <td>0.0</td>\n      <td>0.0</td>\n    </tr>\n    <tr>\n      <th>cx</th>\n      <td>0.000000</td>\n      <td>1.0</td>\n      <td>0.0</td>\n      <td>0.0</td>\n      <td>-0.707107</td>\n      <td>-1.0</td>\n      <td>0.0</td>\n      <td>0.000000</td>\n      <td>0.0</td>\n      <td>0.0</td>\n      <td>0.0</td>\n      <td>0.0</td>\n    </tr>\n    <tr>\n      <th>cy</th>\n      <td>0.000000</td>\n      <td>0.0</td>\n      <td>-1.0</td>\n      <td>0.0</td>\n      <td>-0.707107</td>\n      <td>0.0</td>\n      <td>0.0</td>\n      <td>0.000000</td>\n      <td>0.0</td>\n      <td>0.0</td>\n      <td>0.0</td>\n      <td>0.0</td>\n    </tr>\n    <tr>\n      <th>dx</th>\n      <td>0.000000</td>\n      <td>0.0</td>\n      <td>0.0</td>\n      <td>1.0</td>\n      <td>0.707107</td>\n      <td>0.0</td>\n      <td>0.0</td>\n      <td>-0.707107</td>\n      <td>0.0</td>\n      <td>0.0</td>\n      <td>0.0</td>\n      <td>0.0</td>\n    </tr>\n    <tr>\n      <th>dy</th>\n      <td>0.000000</td>\n      <td>0.0</td>\n      <td>0.0</td>\n      <td>0.0</td>\n      <td>0.707107</td>\n      <td>0.0</td>\n      <td>1.0</td>\n      <td>0.707107</td>\n      <td>0.0</td>\n      <td>0.0</td>\n      <td>0.0</td>\n      <td>0.0</td>\n    </tr>\n    <tr>\n      <th>ex</th>\n      <td>0.000000</td>\n      <td>0.0</td>\n      <td>0.0</td>\n      <td>0.0</td>\n      <td>0.000000</td>\n      <td>1.0</td>\n      <td>0.0</td>\n      <td>0.000000</td>\n      <td>-1.0</td>\n      <td>0.0</td>\n      <td>0.0</td>\n      <td>0.0</td>\n    </tr>\n    <tr>\n      <th>ey</th>\n      <td>0.000000</td>\n      <td>0.0</td>\n      <td>0.0</td>\n      <td>0.0</td>\n      <td>0.000000</td>\n      <td>0.0</td>\n      <td>-1.0</td>\n      <td>0.000000</td>\n      <td>0.0</td>\n      <td>0.0</td>\n      <td>0.0</td>\n      <td>0.0</td>\n    </tr>\n    <tr>\n      <th>fx</th>\n      <td>0.000000</td>\n      <td>0.0</td>\n      <td>0.0</td>\n      <td>0.0</td>\n      <td>0.000000</td>\n      <td>0.0</td>\n      <td>0.0</td>\n      <td>1.000000</td>\n      <td>1.0</td>\n      <td>0.0</td>\n      <td>0.0</td>\n      <td>0.0</td>\n    </tr>\n    <tr>\n      <th>fy</th>\n      <td>0.000000</td>\n      <td>0.0</td>\n      <td>0.0</td>\n      <td>0.0</td>\n      <td>0.000000</td>\n      <td>0.0</td>\n      <td>0.0</td>\n      <td>-0.707107</td>\n      <td>0.0</td>\n      <td>0.0</td>\n      <td>0.0</td>\n      <td>1.0</td>\n    </tr>\n  </tbody>\n</table>\n</div>"
     },
     "metadata": {},
     "output_type": "display_data"
    },
    {
     "name": "stderr",
     "output_type": "stream",
     "text": [
      "/Users/anirudhkamath/opt/anaconda3/envs/MATH7203/lib/python3.8/site-packages/scipy/sparse/linalg/dsolve/linsolve.py:144: SparseEfficiencyWarning: spsolve requires A be CSC or CSR matrix format\n",
      "  warn('spsolve requires A be CSC or CSR matrix format',\n"
     ]
    },
    {
     "data": {
      "text/plain": "              1\n0              \nf1  -106.066017\nf2   -85.355339\nf3    75.000000\nf4    75.000000\nf5   -70.710678\nf6   -35.355339\nf7    25.000000\nf8    35.355339\nf9   -35.355339\nRax -160.355339\nRay  -75.000000\nRfy   25.000000",
      "text/html": "<div>\n<style scoped>\n    .dataframe tbody tr th:only-of-type {\n        vertical-align: middle;\n    }\n\n    .dataframe tbody tr th {\n        vertical-align: top;\n    }\n\n    .dataframe thead th {\n        text-align: right;\n    }\n</style>\n<table border=\"1\" class=\"dataframe\">\n  <thead>\n    <tr style=\"text-align: right;\">\n      <th></th>\n      <th>1</th>\n    </tr>\n    <tr>\n      <th>0</th>\n      <th></th>\n    </tr>\n  </thead>\n  <tbody>\n    <tr>\n      <th>f1</th>\n      <td>-106.066017</td>\n    </tr>\n    <tr>\n      <th>f2</th>\n      <td>-85.355339</td>\n    </tr>\n    <tr>\n      <th>f3</th>\n      <td>75.000000</td>\n    </tr>\n    <tr>\n      <th>f4</th>\n      <td>75.000000</td>\n    </tr>\n    <tr>\n      <th>f5</th>\n      <td>-70.710678</td>\n    </tr>\n    <tr>\n      <th>f6</th>\n      <td>-35.355339</td>\n    </tr>\n    <tr>\n      <th>f7</th>\n      <td>25.000000</td>\n    </tr>\n    <tr>\n      <th>f8</th>\n      <td>35.355339</td>\n    </tr>\n    <tr>\n      <th>f9</th>\n      <td>-35.355339</td>\n    </tr>\n    <tr>\n      <th>Rax</th>\n      <td>-160.355339</td>\n    </tr>\n    <tr>\n      <th>Ray</th>\n      <td>-75.000000</td>\n    </tr>\n    <tr>\n      <th>Rfy</th>\n      <td>25.000000</td>\n    </tr>\n  </tbody>\n</table>\n</div>"
     },
     "execution_count": 51,
     "metadata": {},
     "output_type": "execute_result"
    }
   ],
   "source": [
    "import math\n",
    "import pandas as pd\n",
    "from scipy import sparse\n",
    "\n",
    "COLS = ['f1', 'f2', 'f3', 'f4', 'f5', 'f6', 'f7', 'f8', 'f9', 'Rax', 'Ray', 'Rfy']\n",
    "\n",
    "sin45 = math.sin(math.pi / 4)\n",
    "cos45 = math.cos(math.pi / 4)\n",
    "\n",
    "eqs = {\n",
    "    'ax': {'f1': -cos45, 'f2': -1, 'Rax': 1},\n",
    "    'ay': {'f1': -sin45, 'Ray': 1},\n",
    "    'bx': {'f1': cos45, 'f4': 1},\n",
    "    'by': {'f1': sin45, 'f3': 1},\n",
    "    'cx': {'f2': 1, 'f5': -cos45, 'f6': -1},\n",
    "    'cy': {'f3': -1, 'f5': -sin45},\n",
    "    'dx': {'f4': 1, 'f5': cos45, 'f8': -cos45},\n",
    "    'dy': {'f5': sin45, 'f7': 1, 'f8': sin45},\n",
    "    'ex': {'f6': 1, 'f9': -1},\n",
    "    'ey': {'f7': -1},\n",
    "    'fx': {'f8': 1, 'f9': 1},\n",
    "    'fy': {'f8': -sin45, 'Rfy': 1}\n",
    "}\n",
    "\n",
    "rows = []\n",
    "cols = []\n",
    "data = []\n",
    "\n",
    "for i, key in enumerate(eqs.keys()):\n",
    "    for x, row in enumerate(eqs[key].keys()):\n",
    "        rows.append(i)\n",
    "        cols.append(COLS.index(row))\n",
    "        data.append(eqs[key][row])\n",
    "\n",
    "\n",
    "mat = sparse.coo_matrix((data, (rows, cols)), shape=(len(eqs), len(COLS)))\n",
    "df = pd.DataFrame(mat.toarray(), columns=COLS)\n",
    "df['row'] = eqs.keys()\n",
    "display(df.set_index('row'))\n",
    "\n",
    "import numpy as np\n",
    "ans = np.zeros(len(eqs))\n",
    "from scipy.sparse.linalg import spsolve\n",
    "\n",
    "truck_weight = 50\n",
    "Tc = Te = truck_weight / 2\n",
    "ans[5] = -Tc\n",
    "ans[9] = -Te\n",
    "pd.DataFrame(list(zip(COLS, spsolve(mat, ans)))).set_index(0)"
   ]
  },
  {
   "cell_type": "code",
   "execution_count": null,
   "outputs": [],
   "source": [],
   "metadata": {
    "collapsed": false,
    "pycharm": {
     "name": "#%%\n"
    }
   }
  }
 ],
 "metadata": {
  "kernelspec": {
   "display_name": "Python 3",
   "language": "python",
   "name": "python3"
  },
  "language_info": {
   "codemirror_mode": {
    "name": "ipython",
    "version": 3
   },
   "file_extension": ".py",
   "mimetype": "text/x-python",
   "name": "python",
   "nbconvert_exporter": "python",
   "pygments_lexer": "ipython3",
   "version": "3.8.5"
  }
 },
 "nbformat": 4,
 "nbformat_minor": 1
}