{
 "cells": [
  {
   "cell_type": "markdown",
   "metadata": {
    "collapsed": true,
    "pycharm": {
     "name": "#%% md\n"
    }
   },
   "source": [
    "A simple analysis of this truss is performed by considering the force balance equations.  This may be expressed as a matrix which relates the unknown internal forces on all beams to the known externally applied forces (i.e. the truck).  The reaction forces pushing on the bridge are regarded as internal forces since they are unknown.  We write this relation as\n",
    "\n",
    "$Af_i=−f_e$\n",
    "\n",
    "Where $f_i$ is a vector (list) of the internal forces on each beam, and fe is the vector of known external forces. The matrix A holds the information detailing how the forces interact, i.e. the structure of the bridge.  The goal is to find the internal forces $f_i$.\n",
    "\n",
    "![truss.png](truss.png)\n",
    "\n",
    "## 1. Complete the above analysis and write down the entire matrix equation describing the forces at each joint.\n",
    "\n",
    "### Left positive, right negative\n",
    "### Up negative, down positive\n",
    "### Positive - tension, Negative - compression\n",
    "$$a_x \\rightarrow -f_1cos(45)-f_2+r_{ax} = 0$$\n",
    "\n",
    "$$a_y \\rightarrow -f_1sin(45)+r_{ay} = 0$$\n",
    "\n",
    "$$b_x \\rightarrow f_1cos(45) - f_4 = 0$$\n",
    "\n",
    "$$b_y \\rightarrow f_1sin(45) + f_3 = 0 $$\n",
    "\n",
    "$$c_x \\rightarrow f_2 - f_5cos(45) - f_6 = 0$$\n",
    "\n",
    "$$c_y \\rightarrow -f_3 - f_5sin(45) = -T_c$$\n",
    "\n",
    "$$d_x \\rightarrow f_4 + f_5cos(45) - f_8cos(45) = 0$$\n",
    "\n",
    "$$d_y \\rightarrow f_5sin(45) + f_7 + f_8sin(45) = 0$$\n",
    "\n",
    "$$e_x \\rightarrow f_6 - f_9 = 0$$\n",
    "\n",
    "$$e_y \\rightarrow -f_7 = -T_e$$\n",
    "\n",
    "$$f_x \\rightarrow f_8 + f_9 = 0$$\n",
    "\n",
    "$$f_y \\rightarrow -f_8sin(45) + r_{fy} = 0$$\n",
    "\n",
    "## 2. Write down the external force vector, $f_e$.  Recall that we take $T_c=T_e=$ truck weight / 2\n",
    "\n",
    "$f_{ex} = 0$ there is no horizontal force\n",
    "\n",
    "$$f_{ey} = \\begin{pmatrix} 0 & 0 & T_c & 0 & T_e & 0 \\end{pmatrix}$$"
   ]
  },
  {
   "cell_type": "code",
   "execution_count": 5,
   "metadata": {
    "pycharm": {
     "name": "#%%\n"
    }
   },
   "outputs": [
    {
     "name": "stdout",
     "output_type": "stream",
     "text": [
      "FULL MATRIX:\n"
     ]
    },
    {
     "data": {
      "text/plain": "           f1   f2   f3   f4        f5   f6   f7        f8   f9  Rax  Ray  \\\nrow                                                                         \nax   -cos(45) -1.0  0.0  0.0       0.0  0.0  0.0       0.0  0.0  1.0  0.0   \nay   -sin(45)  0.0  0.0  0.0       0.0  0.0  0.0       0.0  0.0  0.0  1.0   \nbx    cos(45)  0.0  0.0 -1.0       0.0  0.0  0.0       0.0  0.0  0.0  0.0   \nby    sin(45)  0.0  1.0  0.0       0.0  0.0  0.0       0.0  0.0  0.0  0.0   \ncx        0.0  1.0  0.0  0.0  -cos(45) -1.0  0.0       0.0  0.0  0.0  0.0   \ncy        0.0  0.0 -1.0  0.0  -sin(45)  0.0  0.0       0.0  0.0  0.0  0.0   \ndx        0.0  0.0  0.0  1.0   cos(45)  0.0  0.0  -cos(45)  0.0  0.0  0.0   \ndy        0.0  0.0  0.0  0.0   sin(45)  0.0  1.0   sin(45)  0.0  0.0  0.0   \nex        0.0  0.0  0.0  0.0       0.0  1.0  0.0       0.0 -1.0  0.0  0.0   \ney        0.0  0.0  0.0  0.0       0.0  0.0 -1.0       0.0  0.0  0.0  0.0   \nfx        0.0  0.0  0.0  0.0       0.0  0.0  0.0   cos(45)  1.0  0.0  0.0   \nfy        0.0  0.0  0.0  0.0       0.0  0.0  0.0  -sin(45)  0.0  0.0  0.0   \n\n     Rfy  ANS  \nrow            \nax   0.0    0  \nay   0.0    0  \nbx   0.0    0  \nby   0.0    0  \ncx   0.0    0  \ncy   0.0  -Tc  \ndx   0.0    0  \ndy   0.0    0  \nex   0.0    0  \ney   0.0  -Te  \nfx   0.0    0  \nfy   1.0    0  ",
      "text/html": "<div>\n<style scoped>\n    .dataframe tbody tr th:only-of-type {\n        vertical-align: middle;\n    }\n\n    .dataframe tbody tr th {\n        vertical-align: top;\n    }\n\n    .dataframe thead th {\n        text-align: right;\n    }\n</style>\n<table border=\"1\" class=\"dataframe\">\n  <thead>\n    <tr style=\"text-align: right;\">\n      <th></th>\n      <th>f1</th>\n      <th>f2</th>\n      <th>f3</th>\n      <th>f4</th>\n      <th>f5</th>\n      <th>f6</th>\n      <th>f7</th>\n      <th>f8</th>\n      <th>f9</th>\n      <th>Rax</th>\n      <th>Ray</th>\n      <th>Rfy</th>\n      <th>ANS</th>\n    </tr>\n    <tr>\n      <th>row</th>\n      <th></th>\n      <th></th>\n      <th></th>\n      <th></th>\n      <th></th>\n      <th></th>\n      <th></th>\n      <th></th>\n      <th></th>\n      <th></th>\n      <th></th>\n      <th></th>\n      <th></th>\n    </tr>\n  </thead>\n  <tbody>\n    <tr>\n      <th>ax</th>\n      <td>-cos(45)</td>\n      <td>-1.0</td>\n      <td>0.0</td>\n      <td>0.0</td>\n      <td>0.0</td>\n      <td>0.0</td>\n      <td>0.0</td>\n      <td>0.0</td>\n      <td>0.0</td>\n      <td>1.0</td>\n      <td>0.0</td>\n      <td>0.0</td>\n      <td>0</td>\n    </tr>\n    <tr>\n      <th>ay</th>\n      <td>-sin(45)</td>\n      <td>0.0</td>\n      <td>0.0</td>\n      <td>0.0</td>\n      <td>0.0</td>\n      <td>0.0</td>\n      <td>0.0</td>\n      <td>0.0</td>\n      <td>0.0</td>\n      <td>0.0</td>\n      <td>1.0</td>\n      <td>0.0</td>\n      <td>0</td>\n    </tr>\n    <tr>\n      <th>bx</th>\n      <td>cos(45)</td>\n      <td>0.0</td>\n      <td>0.0</td>\n      <td>-1.0</td>\n      <td>0.0</td>\n      <td>0.0</td>\n      <td>0.0</td>\n      <td>0.0</td>\n      <td>0.0</td>\n      <td>0.0</td>\n      <td>0.0</td>\n      <td>0.0</td>\n      <td>0</td>\n    </tr>\n    <tr>\n      <th>by</th>\n      <td>sin(45)</td>\n      <td>0.0</td>\n      <td>1.0</td>\n      <td>0.0</td>\n      <td>0.0</td>\n      <td>0.0</td>\n      <td>0.0</td>\n      <td>0.0</td>\n      <td>0.0</td>\n      <td>0.0</td>\n      <td>0.0</td>\n      <td>0.0</td>\n      <td>0</td>\n    </tr>\n    <tr>\n      <th>cx</th>\n      <td>0.0</td>\n      <td>1.0</td>\n      <td>0.0</td>\n      <td>0.0</td>\n      <td>-cos(45)</td>\n      <td>-1.0</td>\n      <td>0.0</td>\n      <td>0.0</td>\n      <td>0.0</td>\n      <td>0.0</td>\n      <td>0.0</td>\n      <td>0.0</td>\n      <td>0</td>\n    </tr>\n    <tr>\n      <th>cy</th>\n      <td>0.0</td>\n      <td>0.0</td>\n      <td>-1.0</td>\n      <td>0.0</td>\n      <td>-sin(45)</td>\n      <td>0.0</td>\n      <td>0.0</td>\n      <td>0.0</td>\n      <td>0.0</td>\n      <td>0.0</td>\n      <td>0.0</td>\n      <td>0.0</td>\n      <td>-Tc</td>\n    </tr>\n    <tr>\n      <th>dx</th>\n      <td>0.0</td>\n      <td>0.0</td>\n      <td>0.0</td>\n      <td>1.0</td>\n      <td>cos(45)</td>\n      <td>0.0</td>\n      <td>0.0</td>\n      <td>-cos(45)</td>\n      <td>0.0</td>\n      <td>0.0</td>\n      <td>0.0</td>\n      <td>0.0</td>\n      <td>0</td>\n    </tr>\n    <tr>\n      <th>dy</th>\n      <td>0.0</td>\n      <td>0.0</td>\n      <td>0.0</td>\n      <td>0.0</td>\n      <td>sin(45)</td>\n      <td>0.0</td>\n      <td>1.0</td>\n      <td>sin(45)</td>\n      <td>0.0</td>\n      <td>0.0</td>\n      <td>0.0</td>\n      <td>0.0</td>\n      <td>0</td>\n    </tr>\n    <tr>\n      <th>ex</th>\n      <td>0.0</td>\n      <td>0.0</td>\n      <td>0.0</td>\n      <td>0.0</td>\n      <td>0.0</td>\n      <td>1.0</td>\n      <td>0.0</td>\n      <td>0.0</td>\n      <td>-1.0</td>\n      <td>0.0</td>\n      <td>0.0</td>\n      <td>0.0</td>\n      <td>0</td>\n    </tr>\n    <tr>\n      <th>ey</th>\n      <td>0.0</td>\n      <td>0.0</td>\n      <td>0.0</td>\n      <td>0.0</td>\n      <td>0.0</td>\n      <td>0.0</td>\n      <td>-1.0</td>\n      <td>0.0</td>\n      <td>0.0</td>\n      <td>0.0</td>\n      <td>0.0</td>\n      <td>0.0</td>\n      <td>-Te</td>\n    </tr>\n    <tr>\n      <th>fx</th>\n      <td>0.0</td>\n      <td>0.0</td>\n      <td>0.0</td>\n      <td>0.0</td>\n      <td>0.0</td>\n      <td>0.0</td>\n      <td>0.0</td>\n      <td>cos(45)</td>\n      <td>1.0</td>\n      <td>0.0</td>\n      <td>0.0</td>\n      <td>0.0</td>\n      <td>0</td>\n    </tr>\n    <tr>\n      <th>fy</th>\n      <td>0.0</td>\n      <td>0.0</td>\n      <td>0.0</td>\n      <td>0.0</td>\n      <td>0.0</td>\n      <td>0.0</td>\n      <td>0.0</td>\n      <td>-sin(45)</td>\n      <td>0.0</td>\n      <td>0.0</td>\n      <td>0.0</td>\n      <td>1.0</td>\n      <td>0</td>\n    </tr>\n  </tbody>\n</table>\n</div>"
     },
     "execution_count": 5,
     "metadata": {},
     "output_type": "execute_result"
    }
   ],
   "source": [
    "import math\n",
    "import pandas as pd\n",
    "from scipy import sparse\n",
    "\n",
    "COLS = ['f1', 'f2', 'f3', 'f4', 'f5', 'f6', 'f7', 'f8', 'f9', 'Rax', 'Ray', 'Rfy']\n",
    "\n",
    "sin45 = math.sin(math.pi / 4)\n",
    "cos45 = math.cos(math.pi / 4)\n",
    "\n",
    "eqs = {\n",
    "    'ax': {'f1': -cos45, 'f2': -1, 'Rax': 1},\n",
    "    'ay': {'f1': -sin45, 'Ray': 1},\n",
    "    'bx': {'f1': cos45, 'f4': -1},\n",
    "    'by': {'f1': sin45, 'f3': 1},\n",
    "    'cx': {'f2': 1, 'f5': -cos45, 'f6': -1},\n",
    "    'cy': {'f3': -1, 'f5': -sin45},\n",
    "    'dx': {'f4': 1, 'f5': cos45, 'f8': -cos45},\n",
    "    'dy': {'f5': sin45, 'f7': 1, 'f8': sin45},\n",
    "    'ex': {'f6': 1, 'f9': -1},\n",
    "    'ey': {'f7': -1},\n",
    "    'fx': {'f8': cos45, 'f9': 1},\n",
    "    'fy': {'f8': -sin45, 'Rfy': 1}\n",
    "}\n",
    "\n",
    "rows = []\n",
    "cols = []\n",
    "data = []\n",
    "\n",
    "for i, key in enumerate(eqs.keys()):\n",
    "    for x, row in enumerate(eqs[key].keys()):\n",
    "        rows.append(i)\n",
    "        cols.append(COLS.index(row))\n",
    "        data.append(eqs[key][row])\n",
    "\n",
    "print(\"FULL MATRIX:\")\n",
    "mat = sparse.coo_matrix((data, (rows, cols)), shape=(len(eqs), len(COLS)))\n",
    "mat_df = pd.DataFrame(mat.toarray(), columns=COLS)\n",
    "mat_df['row'] = eqs.keys()\n",
    "mat_df[\"ANS\"] = [0 if a not in {'cy', 'ey'} else f'-T{a[0]}' for a in mat_df['row']]\n",
    "mat_df = mat_df.set_index('row')\n",
    "for col in mat_df.columns[:-1]:\n",
    "    l = []\n",
    "    for i, row in mat_df.iterrows():\n",
    "        if abs(row[col]) == 1 or row[col] == 0:\n",
    "            l.append(row[col])\n",
    "            continue\n",
    "        temp = \"\" if row[col] > 0 else \"-\"\n",
    "        if \"x\" in row.name:\n",
    "            temp += \"cos(45)\"\n",
    "        elif \"y\" in row.name:\n",
    "            temp += \"sin(45)\"\n",
    "        l.append(temp)\n",
    "    mat_df[col] = l\n",
    "mat_df"
   ]
  },
  {
   "cell_type": "code",
   "execution_count": 23,
   "outputs": [
    {
     "name": "stdout",
     "output_type": "stream",
     "text": [
      "Does our matrix yield the right equations?\n",
      "\n",
      "ax -> -f1cos(45) - f2 + Rax = 0 \n",
      "\n",
      "ay -> -f1sin(45) + Ray = 0 \n",
      "\n",
      "bx -> f1cos(45) - f4 = 0 \n",
      "\n",
      "by -> f1sin(45) + f3 = 0 \n",
      "\n",
      "cx -> f2 - f5cos(45) - f6 = 0 \n",
      "\n",
      "cy -> -f3 - f5sin(45) = -Tc \n",
      "\n",
      "dx -> f4 + f5cos(45) - f8cos(45) = 0 \n",
      "\n",
      "dy -> f5sin(45) + f7 + f8sin(45) = 0 \n",
      "\n",
      "ex -> f6 - f9 = 0 \n",
      "\n",
      "ey -> -f7 = -Te \n",
      "\n",
      "fx -> f8cos(45) + f9 = 0 \n",
      "\n",
      "fy -> -f8sin(45) + Rfy = 0 \n",
      "\n"
     ]
    }
   ],
   "source": [
    "# Verify that equations are what we expect\n",
    "print(\"Does our matrix yield the right equations?\\n\")\n",
    "for _, row in mat_df.iterrows():\n",
    "    s = []\n",
    "    for col in mat_df.columns[:-1]:\n",
    "        val = row[col]\n",
    "        if val == 0:\n",
    "            continue\n",
    "        if val == 1:\n",
    "            if not s:\n",
    "                s.append(col)\n",
    "                continue\n",
    "            s.append(f'+ {col}')\n",
    "            continue\n",
    "        if val == -1:\n",
    "            if not s:\n",
    "                s.append(f'-{col}')\n",
    "                continue\n",
    "            s.append(f'- {col}')\n",
    "            continue\n",
    "        if val[0] == \"-\":\n",
    "            if not s:\n",
    "                s.append(f'-{col}{val[1:]}')\n",
    "                continue\n",
    "            s.append(f'- {col}{val[1:]}')\n",
    "            continue\n",
    "        if not s:\n",
    "            s.append(f'{col}{val}')\n",
    "            continue\n",
    "        s.append(f'+ {col}{val}')\n",
    "    print(row.name, '->', ' '.join(s), '=', row[\"ANS\"], '\\n')"
   ],
   "metadata": {
    "collapsed": false,
    "pycharm": {
     "name": "#%%\n"
    }
   }
  },
  {
   "cell_type": "markdown",
   "source": [
    "## 3. Solve the system (using Matlab, or your preferred solver), and find the vector of member forces, $f_1$, $f_2$, $f_3$, etc.\n",
    "## 4. Will the bridge collapse because of weight of the 15 ton truck?\n",
    "## 5. What happens if somebody drives a 20 ton truck on this bridge?"
   ],
   "metadata": {
    "collapsed": false,
    "pycharm": {
     "name": "#%% md\n"
    }
   }
  },
  {
   "cell_type": "code",
   "execution_count": 31,
   "outputs": [
    {
     "name": "stderr",
     "output_type": "stream",
     "text": [
      "/Users/anirudhkamath/opt/anaconda3/envs/MATH7203/lib/python3.8/site-packages/scipy/sparse/linalg/dsolve/linsolve.py:144: SparseEfficiencyWarning: spsolve requires A be CSC or CSR matrix format\n",
      "  warn('spsolve requires A be CSC or CSR matrix format',\n"
     ]
    },
    {
     "data": {
      "text/plain": "     Force at 15 tons   15-ton t/c Sturdy at 15?  Force at 20 tons  \\\n0                                                                    \nf1         -10.606602  COMPRESSION          GOOD        -14.142136   \nf2           7.500000      TENSION          GOOD         10.000000   \nf3           7.500000      TENSION          GOOD         10.000000   \nf4          -7.500000  COMPRESSION          GOOD        -10.000000   \nf5          -0.000000                       GOOD         -0.000000   \nf6           7.500000      TENSION          GOOD         10.000000   \nf7           7.500000      TENSION          GOOD         10.000000   \nf8         -10.606602  COMPRESSION          GOOD        -14.142136   \nf9           7.500000      TENSION          GOOD         10.000000   \nRax          0.000000                       GOOD          0.000000   \nRay         -7.500000  COMPRESSION          GOOD        -10.000000   \nRfy         -7.500000  COMPRESSION          GOOD        -10.000000   \n\n      20-ton t/c Sturdy at 20?  \n0                               \nf1   COMPRESSION         BREAK  \nf2       TENSION                \nf3       TENSION                \nf4   COMPRESSION                \nf5                              \nf6       TENSION                \nf7       TENSION                \nf8   COMPRESSION         BREAK  \nf9       TENSION                \nRax                             \nRay  COMPRESSION                \nRfy  COMPRESSION                ",
      "text/html": "<div>\n<style scoped>\n    .dataframe tbody tr th:only-of-type {\n        vertical-align: middle;\n    }\n\n    .dataframe tbody tr th {\n        vertical-align: top;\n    }\n\n    .dataframe thead th {\n        text-align: right;\n    }\n</style>\n<table border=\"1\" class=\"dataframe\">\n  <thead>\n    <tr style=\"text-align: right;\">\n      <th></th>\n      <th>Force at 15 tons</th>\n      <th>15-ton t/c</th>\n      <th>Sturdy at 15?</th>\n      <th>Force at 20 tons</th>\n      <th>20-ton t/c</th>\n      <th>Sturdy at 20?</th>\n    </tr>\n    <tr>\n      <th>0</th>\n      <th></th>\n      <th></th>\n      <th></th>\n      <th></th>\n      <th></th>\n      <th></th>\n    </tr>\n  </thead>\n  <tbody>\n    <tr>\n      <th>f1</th>\n      <td>-10.606602</td>\n      <td>COMPRESSION</td>\n      <td>GOOD</td>\n      <td>-14.142136</td>\n      <td>COMPRESSION</td>\n      <td>BREAK</td>\n    </tr>\n    <tr>\n      <th>f2</th>\n      <td>7.500000</td>\n      <td>TENSION</td>\n      <td>GOOD</td>\n      <td>10.000000</td>\n      <td>TENSION</td>\n      <td></td>\n    </tr>\n    <tr>\n      <th>f3</th>\n      <td>7.500000</td>\n      <td>TENSION</td>\n      <td>GOOD</td>\n      <td>10.000000</td>\n      <td>TENSION</td>\n      <td></td>\n    </tr>\n    <tr>\n      <th>f4</th>\n      <td>-7.500000</td>\n      <td>COMPRESSION</td>\n      <td>GOOD</td>\n      <td>-10.000000</td>\n      <td>COMPRESSION</td>\n      <td></td>\n    </tr>\n    <tr>\n      <th>f5</th>\n      <td>-0.000000</td>\n      <td></td>\n      <td>GOOD</td>\n      <td>-0.000000</td>\n      <td></td>\n      <td></td>\n    </tr>\n    <tr>\n      <th>f6</th>\n      <td>7.500000</td>\n      <td>TENSION</td>\n      <td>GOOD</td>\n      <td>10.000000</td>\n      <td>TENSION</td>\n      <td></td>\n    </tr>\n    <tr>\n      <th>f7</th>\n      <td>7.500000</td>\n      <td>TENSION</td>\n      <td>GOOD</td>\n      <td>10.000000</td>\n      <td>TENSION</td>\n      <td></td>\n    </tr>\n    <tr>\n      <th>f8</th>\n      <td>-10.606602</td>\n      <td>COMPRESSION</td>\n      <td>GOOD</td>\n      <td>-14.142136</td>\n      <td>COMPRESSION</td>\n      <td>BREAK</td>\n    </tr>\n    <tr>\n      <th>f9</th>\n      <td>7.500000</td>\n      <td>TENSION</td>\n      <td>GOOD</td>\n      <td>10.000000</td>\n      <td>TENSION</td>\n      <td></td>\n    </tr>\n    <tr>\n      <th>Rax</th>\n      <td>0.000000</td>\n      <td></td>\n      <td>GOOD</td>\n      <td>0.000000</td>\n      <td></td>\n      <td></td>\n    </tr>\n    <tr>\n      <th>Ray</th>\n      <td>-7.500000</td>\n      <td>COMPRESSION</td>\n      <td>GOOD</td>\n      <td>-10.000000</td>\n      <td>COMPRESSION</td>\n      <td></td>\n    </tr>\n    <tr>\n      <th>Rfy</th>\n      <td>-7.500000</td>\n      <td>COMPRESSION</td>\n      <td>GOOD</td>\n      <td>-10.000000</td>\n      <td>COMPRESSION</td>\n      <td></td>\n    </tr>\n  </tbody>\n</table>\n</div>"
     },
     "execution_count": 31,
     "metadata": {},
     "output_type": "execute_result"
    }
   ],
   "source": [
    "# Sanity Checks\n",
    "import numpy as np\n",
    "from scipy.sparse.linalg import spsolve\n",
    "\n",
    "existing_data = [COLS]\n",
    "cols = []\n",
    "\n",
    "MAX_COMPRESSION = 14\n",
    "MAX_TENSION = 11\n",
    "TRUCK_WEIGHTS = [15, 20]\n",
    "\n",
    "for truck_weight in TRUCK_WEIGHTS:\n",
    "    Tc = Te = truck_weight / 2\n",
    "\n",
    "    # External Force Vector\n",
    "    Fe = np.zeros(len(eqs))\n",
    "    Fe[5] = -Tc\n",
    "    Fe[9] = -Te\n",
    "    ans = spsolve(mat, Fe)\n",
    "    existing_data.append(ans)\n",
    "    cols.append(f\"Force at {truck_weight} tons\")\n",
    "    existing_data.append([\"TENSION\" if a > 0 else \"COMPRESSION\" if a < 0 else \"\" for a in ans])\n",
    "    cols.append(f\"{truck_weight}-ton t/c\")\n",
    "    will_break = ['' if -MAX_COMPRESSION < a < MAX_TENSION else \"BREAK\" for a in ans]\n",
    "    if all(not a for a in will_break):\n",
    "        will_break = [\"GOOD\"] * len(ans)\n",
    "    existing_data.append(will_break)\n",
    "    cols.append(f\"Sturdy at {truck_weight}?\")\n",
    "\n",
    "df = pd.DataFrame(list(zip(*existing_data))).set_index(0)\n",
    "df.columns = cols\n",
    "df\n"
   ],
   "metadata": {
    "collapsed": false,
    "pycharm": {
     "name": "#%%\n"
    }
   }
  },
  {
   "cell_type": "code",
   "execution_count": 27,
   "outputs": [
    {
     "name": "stdout",
     "output_type": "stream",
     "text": [
      "\n",
      "\n",
      " DIDN'T WORK\n",
      " -15.000000000000002 15 \n",
      "\n",
      "\n",
      "\n",
      "\n",
      " WORKED\n",
      " 0.0 0 \n",
      "\n",
      "\n",
      "\n",
      "\n",
      " WORKED\n",
      " -10.606601717798215 -10.606601717798215 \n",
      "\n",
      "\n",
      "\n",
      "\n",
      " WORKED\n",
      " 7.500000000000002 7.500000000000002 \n",
      "\n",
      "\n",
      "\n",
      "\n",
      " DIDN'T WORK\n",
      " -20.0 20 \n",
      "\n",
      "\n",
      "\n",
      "\n",
      " WORKED\n",
      " 0.0 0 \n",
      "\n",
      "\n",
      "\n",
      "\n",
      " WORKED\n",
      " -14.142135623730951 -14.142135623730951 \n",
      "\n",
      "\n",
      "\n",
      "\n",
      " WORKED\n",
      " 10.000000000000002 10.000000000000002 \n",
      "\n",
      "\n"
     ]
    }
   ],
   "source": [
    "# Some small sanity checks - I think I'm doing something wrong in these tests because everything else looks right, like the tension/compression stuff and the other test cases\n",
    "\n",
    "vals = df.to_dict('index')\n",
    "\n",
    "for truck_weight in TRUCK_WEIGHTS:\n",
    "    tests = [\n",
    "            (vals['Rfy'][f\"Force at {truck_weight} tons\"] + vals['Ray'][f\"Force at {truck_weight} tons\"], truck_weight),\n",
    "            (vals['Rax'][f\"Force at {truck_weight} tons\"], 0),\n",
    "            (vals['f1'][f\"Force at {truck_weight} tons\"], vals['f8'][f\"Force at {truck_weight} tons\"]),\n",
    "            (vals['f2'][f\"Force at {truck_weight} tons\"], vals['f9'][f\"Force at {truck_weight} tons\"])\n",
    "        ]\n",
    "    for act, exp in tests:\n",
    "        if act != exp:\n",
    "            print(\"\\n\\n DIDN'T WORK\\n\", act, exp, \"\\n\\n\")\n",
    "        else:\n",
    "            print(\"\\n\\n WORKED\\n\", act, exp, \"\\n\\n\")\n"
   ],
   "metadata": {
    "collapsed": false,
    "pycharm": {
     "name": "#%%\n"
    }
   }
  }
 ],
 "metadata": {
  "kernelspec": {
   "display_name": "Python 3",
   "language": "python",
   "name": "python3"
  },
  "language_info": {
   "codemirror_mode": {
    "name": "ipython",
    "version": 3
   },
   "file_extension": ".py",
   "mimetype": "text/x-python",
   "name": "python",
   "nbconvert_exporter": "python",
   "pygments_lexer": "ipython3",
   "version": "3.8.5"
  }
 },
 "nbformat": 4,
 "nbformat_minor": 1
}