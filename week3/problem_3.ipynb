{
 "cells": [
  {
   "cell_type": "markdown",
   "metadata": {
    "collapsed": true,
    "pycharm": {
     "name": "#%% md\n"
    }
   },
   "source": [
    "A simple analysis of this truss is performed by considering the force balance equations.  This may be expressed as a matrix which relates the unknown internal forces on all beams to the known externally applied forces (i.e. the truck).  The reaction forces pushing on the bridge are regarded as internal forces since they are unknown.  We write this relation as\n",
    "\n",
    "$Af_i=−f_e$\n",
    "\n",
    "Where $f_i$ is a vector (list) of the internal forces on each beam, and fe is the vector of known external forces. The matrix A holds the information detailing how the forces interact, i.e. the structure of the bridge.  The goal is to find the internal forces $f_i$.\n",
    "\n",
    "We can represent all the connections via an adjacency matrix:\n",
    "\n",
    "$\\begin{pmatrix} + & a & b & c & d & e & f \\\\ a & r_{ax} & -f_1cos(45) & -f_2 & 0 & 0 & 0 \\\\ b & f_1cos(45) & 0 & 0 & f_4 & 0 & 0 \\\\ c & f_2 & 0 & 0 & -f_5cos(45) & -f_6 & 0 \\\\ d & 0 & -f_4 & f_5cos(45) & 0 & 0 & -f_8cos(45) \\\\ e & 0 & 0 & f_6 & 0 & 0 & f_9 \\\\ f & 0 & 0 & 0 & f_8cos(45) & f_9 & 0 \\end{pmatrix}$\n",
    "\n",
    "Using this, we extract a separate matrix through which we can solve\n",
    "\n",
    "$A_x = \\begin{pmatrix} + & r_{ax} & f_1 & f_2 & f_3 & f_4 & f_5 & f_6 & f_7 & f_8 & f_9 \\\\ a & 1 & -cos(45) & -1 & 0 & 0 & 0 & 0 & 0 & 0 & 0 \\\\ b & 0 & cos(45) & 0 & 0 & 1 & 0 & 0 & 0 & 0 & 0 \\\\ c & 0 & 0 & 1 & 0 & 0 & -cos(45) & -1 & 0 & 0 & 0 \\\\ d & 0 & 0 & 0 & 0 & -1 & cos(45) & 0 & 0 & -cos(45) & 0 \\\\ e & 0 & 0 & 0 & 0 & 0 & 0 & 1 & 0 & 0 & 1 \\\\ f & 0 & 0 & 0 & 0 & 0 & 0 & 0 & 0 & cos(45) & 1 \\end{pmatrix}$\n",
    "\n",
    "$f_i = \\begin{pmatrix} r_{ax} \\\\ f_1 \\\\ f_2 \\\\ f_3 \\\\ f_4 \\\\ f_5 \\\\ f_6 \\\\ f_7 \\\\ f_8 \\\\ f_9 \\end{pmatrix}$\n",
    "\n",
    "Similar for the vertical direction, we form the adjacency matrix:\n",
    "\n",
    "$\\begin{pmatrix} + & a & b & c & d & e & f \\\\ a & r_{ay} & -f_1sin(45) & 0 & 0 & 0 & 0 \\\\ b & f_1sin(45) & 0 & 0 & f_4 & 0 & 0 \\\\ c & f_2 & 0 & 0 & -f_5cos(45) & -f_6 & 0 \\\\ d & 0 & -f_4 & f_5cos(45) & 0 & 0 & -f_8cos(45) \\\\ e & 0 & 0 & f_6 & 0 & 0 & f_9 \\\\ f & 0 & 0 & 0 & f_8cos(45) & f_9 & 0 \\end{pmatrix}$\n",
    "\n",
    "$A_y = \\begin{pmatrix}  \\end{pmatrix}$"
   ]
  },
  {
   "cell_type": "code",
   "execution_count": null,
   "outputs": [],
   "source": [
    "import numpy as np\n",
    "\n",
    "X = np.array()"
   ],
   "metadata": {
    "collapsed": false,
    "pycharm": {
     "name": "#%%\n"
    }
   }
  }
 ],
 "metadata": {
  "kernelspec": {
   "display_name": "Python 3",
   "language": "python",
   "name": "python3"
  },
  "language_info": {
   "codemirror_mode": {
    "name": "ipython",
    "version": 2
   },
   "file_extension": ".py",
   "mimetype": "text/x-python",
   "name": "python",
   "nbconvert_exporter": "python",
   "pygments_lexer": "ipython2",
   "version": "2.7.6"
  }
 },
 "nbformat": 4,
 "nbformat_minor": 0
}