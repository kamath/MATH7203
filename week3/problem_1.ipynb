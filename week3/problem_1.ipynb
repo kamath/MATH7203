{
 "cells": [
  {
   "cell_type": "code",
   "execution_count": 6,
   "metadata": {
    "collapsed": true
   },
   "outputs": [
    {
     "name": "stderr",
     "output_type": "stream",
     "text": [
      "100%|██████████| 20/20 [00:00<00:00, 903.39it/s]\n"
     ]
    },
    {
     "name": "stdout",
     "output_type": "stream",
     "text": [
      "Difference in powers of 10 at n=2: 1.285140142535685\n",
      "296073188139524.2\n",
      "Difference in powers of 10 at n=3: 2.719378342053404\n",
      "12102705024879.281\n",
      "Difference in powers of 10 at n=4: 4.19071647337884\n",
      "435508460362.0848\n",
      "Difference in powers of 10 at n=5: 5.678160644633185\n",
      "14807514793.172894\n",
      "Difference in powers of 10 at n=6: 7.174671944915424\n",
      "487649535.45137835\n",
      "Difference in powers of 10 at n=7: 8.677029355468376\n",
      "15735120.407217957\n",
      "Difference in powers of 10 at n=8: 10.183485528763413\n",
      "500592.6541558459\n",
      "Difference in powers of 10 at n=9: 11.69298234557671\n",
      "15761.178753912727\n",
      "Difference in powers of 10 at n=10: 13.204782237783494\n",
      "492.370160977559\n",
      "Difference in powers of 10 at n=11: 14.71789324553719\n",
      "15.305104620180796\n",
      "Difference in powers of 10 at n=12: 16.243403494085232\n",
      "0.46164777064963547\n",
      "Difference in powers of 10 at n=13: 18.524284904761345\n",
      "0.002442707573293075\n",
      "Difference in powers of 10 at n=14: 17.792446761772794\n",
      "0.013295516472471009\n",
      "Difference in powers of 10 at n=15: 17.565185599546567\n",
      "0.022625014839208788\n",
      "Difference in powers of 10 at n=16: 17.895724556272782\n",
      "0.01065017322098129\n",
      "Difference in powers of 10 at n=17: 18.101638604517092\n",
      "0.006675428937702591\n",
      "Difference in powers of 10 at n=18: 18.35114495517845\n",
      "0.0037824734122387507\n",
      "Difference in powers of 10 at n=19: 18.811035420253614\n",
      "0.0013197295882577372\n",
      "Difference in powers of 10 at n=20: 18.132056519946186\n",
      "0.006337013427692977\n",
      "Difference in powers of 10 at n=21: 18.51721257356128\n",
      "0.0026241656968188955\n"
     ]
    },
    {
     "data": {
      "text/plain": "<matplotlib.legend.Legend at 0x7f91495c6910>"
     },
     "execution_count": 6,
     "metadata": {},
     "output_type": "execute_result"
    },
    {
     "data": {
      "text/plain": "<Figure size 432x288 with 1 Axes>",
      "image/png": "[encoded data removed]"
     },
     "metadata": {
      "needs_background": "light"
     },
     "output_type": "display_data"
    }
   ],
   "source": [
    "from scipy.linalg import hilbert as hilb\n",
    "import scipy\n",
    "import numpy as np\n",
    "from tqdm import tqdm\n",
    "import matplotlib.pyplot as plt\n",
    "\n",
    "rns = []\n",
    "cns = []\n",
    "err = []\n",
    "diff = []\n",
    "max_n = 21\n",
    "for n in tqdm(range(2, max_n + 1)):\n",
    "    x0 = np.ones(n)\n",
    "    Hn = hilb(n)\n",
    "    # print(scipy.linalg.svdvals(Hn))\n",
    "    cn = np.linalg.cond(Hn)\n",
    "\n",
    "    b = np.dot(Hn, x0)\n",
    "    xc = np.linalg.solve(Hn, b)\n",
    "\n",
    "    rn = np.linalg.norm(xc - x0)\n",
    "    errest = cn * np.finfo(float).eps\n",
    "    rns.append(rn)\n",
    "    cns.append(cn)\n",
    "    err.append(errest)\n",
    "    print(f\"Difference in powers of 10 at n={n}:\", np.log10(abs(rn - cn)))\n",
    "    print(min(scipy.linalg.svdvals(Hn)) / np.finfo(float).eps)\n",
    "\n",
    "plt.scatter(list(range(2, max_n + 1)), rns, label='Residual', alpha=.3)\n",
    "plt.scatter(list(range(2, max_n + 1)), cns, label='Condition Number', alpha=1)\n",
    "plt.scatter(list(range(2, max_n + 1)), err, label='Err est', alpha=.5)\n",
    "\n",
    "plt.yscale(\"log\")\n",
    "plt.legend()"
   ]
  },
  {
   "cell_type": "markdown",
   "source": [
    "### How many orders of magnitude separate the value of the residual and the value of the condition number?  Why is this the case?\n",
    "\n",
    "As n increases, as does the order of magnitude of separation between the residual and condition number at n.\n",
    "The condition number grows as order $O(\\frac{(1 + \\sqrt{2})^{4n}}{\\sqrt{n}})$, whereas the residual operation is not an exponential time operation.\n",
    "The exponential growth in the residual is therefore due to the difference in asymptotic growth between the `linsolve()` and condition number operations.\n",
    "\n",
    "### Why do the condition number and the residual seem to saturate for $n \\geq 13$?  Hint:  Matlab’s `cond()` actually computes the inverse of the condition number, $1/κ$.  What effect might round-off error have on $1/κ$?\n",
    "\n",
    "The condition number is calculated via SVD, so for Hilbert matrices, it is derived by dividing the first singular value over the last singular value. As $n \\rightarrow \\infty$,\n",
    "the min singular value tends to zero, ending up at `eps(1)`. The numerator keeps growing, but due to the large number in the numerator and small number in the denominator, the answer ."
   ],
   "metadata": {
    "collapsed": false,
    "pycharm": {
     "name": "#%% md\n"
    }
   }
  },
  {
   "cell_type": "code",
   "execution_count": null,
   "outputs": [],
   "source": [
    "Hn = hilb(9000)\n",
    "print(scipy.linalg.svdvals(Hn)[0])"
   ],
   "metadata": {
    "collapsed": false,
    "pycharm": {
     "name": "#%%\n"
    }
   }
  },
  {
   "cell_type": "code",
   "execution_count": 2,
   "outputs": [],
   "source": [],
   "metadata": {
    "collapsed": false,
    "pycharm": {
     "name": "#%%\n"
    }
   }
  }
 ],
 "metadata": {
  "kernelspec": {
   "display_name": "Python 3",
   "language": "python",
   "name": "python3"
  },
  "language_info": {
   "codemirror_mode": {
    "name": "ipython",
    "version": 2
   },
   "file_extension": ".py",
   "mimetype": "text/x-python",
   "name": "python",
   "nbconvert_exporter": "python",
   "pygments_lexer": "ipython2",
   "version": "2.7.6"
  }
 },
 "nbformat": 4,
 "nbformat_minor": 0
}