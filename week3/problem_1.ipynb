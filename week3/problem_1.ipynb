{
 "cells": [
  {
   "cell_type": "code",
   "execution_count": 1,
   "metadata": {},
   "outputs": [
    {
     "name": "stderr",
     "output_type": "stream",
     "text": [
      "100%|██████████| 20/20 [00:00<00:00, 930.37it/s]"
     ]
    },
    {
     "name": "stdout",
     "output_type": "stream",
     "text": [
      "Difference in powers of 10 at n=2: 1.2851401425356848\n",
      "296073188139524.2\n",
      "Difference in powers of 10 at n=3: 2.719378342053403\n",
      "12102705024879.281\n",
      "Difference in powers of 10 at n=4: 4.190716473378835\n",
      "435508460362.0848\n",
      "Difference in powers of 10 at n=5: 5.678160644631732\n",
      "14807514793.172894\n",
      "Difference in powers of 10 at n=6: 7.1746719448921485\n",
      "487649535.45137835\n",
      "Difference in powers of 10 at n=7: 8.677029355768319\n",
      "15735120.407217957\n",
      "Difference in powers of 10 at n=8: 10.183485529576576\n",
      "500592.6541558459\n",
      "Difference in powers of 10 at n=9: 11.692982035680487\n",
      "15761.178753912727\n",
      "Difference in powers of 10 at n=10: 13.204798801575901\n",
      "492.370160977559\n",
      "Difference in powers of 10 at n=11: 14.717687752307812\n",
      "15.305104620180796\n",
      "Difference in powers of 10 at n=12: 16.20982692560044\n",
      "0.46164777064963547\n",
      "Difference in powers of 10 at n=13: 17.68000829138893\n",
      "0.002442707573293075\n",
      "Difference in powers of 10 at n=14: 17.406795376649008\n",
      "0.013295516472471009\n",
      "Difference in powers of 10 at n=15: 17.39723618561494\n",
      "0.022625014839208788\n",
      "Difference in powers of 10 at n=16: 17.689086324302647\n",
      "0.01065017322098129\n",
      "Difference in powers of 10 at n=17: 17.65460385491963\n",
      "0.006675428937702591\n",
      "Difference in powers of 10 at n=18: 18.130341647850376\n",
      "0.0037824734122387507\n",
      "Difference in powers of 10 at n=19: 18.099631712236217\n",
      "0.0013197295882577372\n",
      "Difference in powers of 10 at n=20: 18.323567763536502\n",
      "0.006337013427692977\n",
      "Difference in powers of 10 at n=21: 18.43582642091652\n",
      "0.0026241656968188955\n"
     ]
    },
    {
     "name": "stderr",
     "output_type": "stream",
     "text": [
      "\n"
     ]
    },
    {
     "data": {
      "text/plain": [
       "<matplotlib.legend.Legend at 0x7fe560585d60>"
      ]
     },
     "execution_count": 1,
     "metadata": {},
     "output_type": "execute_result"
    },
    {
     "data": {
      "image/png": "[encoded data removed]",
      "text/plain": [
       "<Figure size 432x288 with 1 Axes>"
      ]
     },
     "metadata": {
      "needs_background": "light"
     },
     "output_type": "display_data"
    }
   ],
   "source": [
    "from scipy.linalg import hilbert as hilb\n",
    "import scipy\n",
    "import numpy as np\n",
    "from tqdm import tqdm\n",
    "import matplotlib.pyplot as plt\n",
    "\n",
    "rns = []\n",
    "cns = []\n",
    "err = []\n",
    "diff = []\n",
    "max_n = 21\n",
    "\n",
    "# Loop through values of n = 2, 3, ...., 21 and make a plot of rn and cn vs. matrix order n\n",
    "for n in tqdm(range(2, max_n + 1)):\n",
    "    # 1. Start with a known vector x0=[1,1,1,1,⋯]T where x0  is of length n.\n",
    "    x0 = np.ones(n)\n",
    "\n",
    "    # 2. Create the nth degree Hilbert matrix using the Matlab built-in “hilb()”\n",
    "    Hn = hilb(n)\n",
    "\n",
    "    # 3. Compute the matrix condition number  cn = cond(Hn).\n",
    "    cn = np.linalg.cond(Hn)\n",
    "\n",
    "    # 4. Compute the matrix vector product b = Hn x0\n",
    "    b = np.dot(Hn, x0)\n",
    "\n",
    "    # 5. Perform the linear solve operation xc = Hn \\ b.\n",
    "    xc = np.linalg.solve(Hn, b)\n",
    "\n",
    "    # 6. Compute the norm of the difference between the computed and the starting x0: rn = ∥x0−xc∥ In theory, what should be the value of rn?\n",
    "    rn = np.linalg.norm(xc - x0)\n",
    "    # In theory, rn should be the 0 vector\n",
    "\n",
    "    # For each n, also compute and plot the error estimate given by Moler, errest = cond(Hn)*eps(1)\n",
    "    errest = cn * np.finfo(float).eps\n",
    "    rns.append(rn)\n",
    "    cns.append(cn)\n",
    "    err.append(errest)\n",
    "    print(f\"Difference in powers of 10 at n={n}:\", np.log10(abs(rn - cn)))\n",
    "    print(min(scipy.linalg.svdvals(Hn)) / np.finfo(float).eps)\n",
    "\n",
    "plt.scatter(list(range(2, max_n + 1)), rns, label='Residual', alpha=.3)\n",
    "plt.scatter(list(range(2, max_n + 1)), cns, label='Condition Number', alpha=1)\n",
    "plt.scatter(list(range(2, max_n + 1)), err, label='Err est', alpha=.5)\n",
    "\n",
    "plt.yscale(\"log\")\n",
    "plt.legend()"
   ]
  },
  {
   "cell_type": "markdown",
   "metadata": {
    "pycharm": {
     "name": "#%% md\n"
    }
   },
   "source": [
    "### How many orders of magnitude separate the value of the residual and the value of the condition number?  Why is this the case?\n",
    "\n",
    "As n increases, as does the order of magnitude of separation between the residual and condition number at n.\n",
    "The condition number grows as order $O(\\frac{(1 + \\sqrt{2})^{4n}}{\\sqrt{n}})$, whereas the residual operation is not an exponential time operation.\n",
    "The exponential growth in the residual is therefore due to the difference in asymptotic growth between the `linsolve()` and condition number operations.\n",
    "\n",
    "### Why do the condition number and the residual seem to saturate for $n \\geq 13$?  Hint:  Matlab’s `cond()` actually computes the inverse of the condition number, $1/κ$.  What effect might round-off error have on $1/κ$?\n",
    "\n",
    "Probably because as n is 13 or higher, the condition number ends up being the max float over `eps(1)`, and the machine is losing information due to floating point stability.\n",
    "\n",
    "Round-off error with large values could lead to much larger errors in any derived calculations.\n",
    "\n"
   ]
  }
 ],
 "metadata": {
  "kernelspec": {
   "display_name": "Python 3",
   "language": "python",
   "name": "python3"
  },
  "language_info": {
   "codemirror_mode": {
    "name": "ipython",
    "version": 3
   },
   "file_extension": ".py",
   "mimetype": "text/x-python",
   "name": "python",
   "nbconvert_exporter": "python",
   "pygments_lexer": "ipython3",
   "version": "3.8.5"
  }
 },
 "nbformat": 4,
 "nbformat_minor": 1
}