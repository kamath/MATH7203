{
 "cells": [
  {
   "cell_type": "markdown",
   "metadata": {
    "collapsed": true,
    "pycharm": {
     "name": "#%% md\n"
    }
   },
   "source": [
    "# Problem 3\n",
    "\n",
    "Back when we discussed the SVD I mentioned the following relationship between an eigenvalue decomposition and the SVD.  For any arbitrary matrix $A$ the following holds between the eigenvalues and the singular values:\n",
    "\n",
    "$$\\sqrt{eig(A^TA)} = svd(A)$$\n",
    "\n",
    "That is,\n",
    "\n",
    "$$\\sqrt{\\lambda_j} = \\sigma_j \\dots j = 1, 2, 3, \\dots N$$\n",
    "\n",
    "where $\\lambda_j = eig(A^TA)$ and $\\sigma_j = svd(A)$\n",
    "\n",
    "Please write a program which generates random matrices A and demonstrates this is true."
   ]
  },
  {
   "cell_type": "code",
   "execution_count": 5,
   "outputs": [
    {
     "name": "stdout",
     "output_type": "stream",
     "text": [
      "True\n",
      "True\n",
      "True\n",
      "True\n",
      "True\n",
      "True\n",
      "True\n",
      "True\n",
      "True\n",
      "True\n"
     ]
    }
   ],
   "source": [
    "import numpy as np\n",
    "\n",
    "# From problem 2 - generates random matrices and returns eigendecomp\n",
    "def random_eigendecomp(N):\n",
    "    A = np.random.uniform(low=1, high=10, size=(N, N))\n",
    "    lambdas, vecs = np.linalg.eig(A)\n",
    "    return A, vecs, lambdas\n",
    "\n",
    "def checkSVD(N):\n",
    "    A, vecs, lambdas = random_eigendecomp(7)\n",
    "    lambdas = np.linalg.eigvals(A.T @ A)\n",
    "    _, sigmas, _ = np.linalg.svd(A)\n",
    "\n",
    "    # This wasn't working based solely off of indices, but the values were the same\n",
    "    lambdas.sort()\n",
    "    sigmas.sort()\n",
    "\n",
    "    return all(np.sqrt(lj) - sj <= 1e-10 for lj, sj in zip(lambdas, sigmas))\n",
    "\n",
    "for i in range(10):\n",
    "    print(checkSVD(np.random.randint(2, 10)))"
   ],
   "metadata": {
    "collapsed": false,
    "pycharm": {
     "name": "#%%\n"
    }
   }
  }
 ],
 "metadata": {
  "kernelspec": {
   "display_name": "Python 3",
   "language": "python",
   "name": "python3"
  },
  "language_info": {
   "codemirror_mode": {
    "name": "ipython",
    "version": 2
   },
   "file_extension": ".py",
   "mimetype": "text/x-python",
   "name": "python",
   "nbconvert_exporter": "python",
   "pygments_lexer": "ipython2",
   "version": "2.7.6"
  }
 },
 "nbformat": 4,
 "nbformat_minor": 0
}