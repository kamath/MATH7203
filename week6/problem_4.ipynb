{
 "cells": [
  {
   "cell_type": "markdown",
   "metadata": {
    "collapsed": true,
    "pycharm": {
     "name": "#%% md\n"
    }
   },
   "source": [
    "# Problem 4\n",
    "\n",
    "In this problem, you will perform PCA on a dataset. I have hidden an object into a larger dataset. The object is saved as a point cloud. Your goal is to write a program implementing PCA to examine\n",
    "the dataset, find its dimensionality, find the principal axes of the data, then do a projection to find the hidden object.\n",
    "\n",
    "The dataset to process is called “Datafile.csv”, available on Blackboard. You may assume the data is organized in rows (as in class).  That is, each row is a measurement series, with different samples along the columns.  Note that I have added a small amount of noise to all data to simulate the effect of measurement error.  Therefore, once you discover the figure, it may have a little bit of noise on it.\n",
    "\n",
    "You don't need a test function for this problem.  Rather, hand in a plot showing the object you found.  Also, please answer the following questions:\n",
    "\n",
    "- How many dimensions of the data hold useful information, and how many are noise?\n",
    "- What object did I hide in the data?"
   ]
  },
  {
   "cell_type": "code",
   "execution_count": 4,
   "outputs": [
    {
     "name": "stdout",
     "output_type": "stream",
     "text": [
      "(11, 1917)\n"
     ]
    }
   ],
   "source": [
    "import pandas as pd\n",
    "import numpy as np\n",
    "import matplotlib.pyplot as plt\n",
    "\n",
    "# Uploaded my CSV to GitHub to be able to read it from the cloud in Colab\n",
    "df = pd.read_csv('https://gist.githubusercontent.com/kamath/90baab18a706ab5e022d7bbe7b59b8bf/raw/b3734d050cf23614021e390fc907a4f1df1a9a9c/Datafile.csv', header=None)\n",
    "mat = df.to_numpy()\n",
    "\n",
    "# Normalize the data for Scikit-Learn PCA\n",
    "for i in range(mat.shape[1]):\n",
    "    mat[:, i] = mat[:, i] / np.linalg.norm(mat[:, i])\n",
    "print(mat.shape)"
   ],
   "metadata": {
    "collapsed": false,
    "pycharm": {
     "name": "#%%\n"
    }
   }
  },
  {
   "cell_type": "code",
   "execution_count": 8,
   "outputs": [
    {
     "name": "stdout",
     "output_type": "stream",
     "text": [
      "Components (11, 11)\n",
      "(1917, 11)\n"
     ]
    },
    {
     "data": {
      "text/plain": "           PC1       PC2       PC3       PC4       PC5       PC6       PC7  \\\n0     0.212185 -0.232629  0.028402 -0.002026 -0.004504  0.007481  0.001808   \n1     0.203658 -0.234524  0.027027  0.004867  0.002495 -0.001695 -0.002844   \n2    -0.076987 -0.298201  0.026820 -0.003244  0.001818  0.004776  0.001425   \n3    -0.092702 -0.296948  0.028009 -0.006580 -0.002427  0.003953  0.004404   \n4    -0.075713 -0.291440  0.024857 -0.005834  0.006055  0.001418  0.005872   \n...        ...       ...       ...       ...       ...       ...       ...   \n1912  0.152470  0.061448 -0.000067  0.001359 -0.004355  0.002267 -0.000225   \n1913  0.187773 -0.134163  0.007589  0.000730 -0.000958  0.001863 -0.001496   \n1914  0.165294 -0.130974  0.003433  0.000099 -0.001549 -0.004011  0.001890   \n1915  0.146895  0.038993 -0.002642 -0.001411 -0.003227  0.001137  0.002067   \n1916  0.157449  0.046490 -0.000563  0.002366 -0.001639  0.001180 -0.000739   \n\n           PC8       PC9      PC10      PC11  \n0    -0.002231 -0.004351 -0.005762  0.002807  \n1     0.000491 -0.000626  0.003384  0.002001  \n2     0.000371 -0.006925  0.000051 -0.000852  \n3    -0.002487  0.001822  0.001790  0.001075  \n4    -0.001234  0.005994 -0.003391 -0.003385  \n...        ...       ...       ...       ...  \n1912 -0.000991 -0.002249  0.002224  0.000787  \n1913  0.003682 -0.001076  0.002381  0.000018  \n1914  0.000886  0.001723 -0.003783  0.002239  \n1915  0.002939 -0.001024  0.000616  0.000307  \n1916 -0.000455 -0.001931 -0.002077  0.001709  \n\n[1917 rows x 11 columns]",
      "text/html": "<div>\n<style scoped>\n    .dataframe tbody tr th:only-of-type {\n        vertical-align: middle;\n    }\n\n    .dataframe tbody tr th {\n        vertical-align: top;\n    }\n\n    .dataframe thead th {\n        text-align: right;\n    }\n</style>\n<table border=\"1\" class=\"dataframe\">\n  <thead>\n    <tr style=\"text-align: right;\">\n      <th></th>\n      <th>PC1</th>\n      <th>PC2</th>\n      <th>PC3</th>\n      <th>PC4</th>\n      <th>PC5</th>\n      <th>PC6</th>\n      <th>PC7</th>\n      <th>PC8</th>\n      <th>PC9</th>\n      <th>PC10</th>\n      <th>PC11</th>\n    </tr>\n  </thead>\n  <tbody>\n    <tr>\n      <th>0</th>\n      <td>0.212185</td>\n      <td>-0.232629</td>\n      <td>0.028402</td>\n      <td>-0.002026</td>\n      <td>-0.004504</td>\n      <td>0.007481</td>\n      <td>0.001808</td>\n      <td>-0.002231</td>\n      <td>-0.004351</td>\n      <td>-0.005762</td>\n      <td>0.002807</td>\n    </tr>\n    <tr>\n      <th>1</th>\n      <td>0.203658</td>\n      <td>-0.234524</td>\n      <td>0.027027</td>\n      <td>0.004867</td>\n      <td>0.002495</td>\n      <td>-0.001695</td>\n      <td>-0.002844</td>\n      <td>0.000491</td>\n      <td>-0.000626</td>\n      <td>0.003384</td>\n      <td>0.002001</td>\n    </tr>\n    <tr>\n      <th>2</th>\n      <td>-0.076987</td>\n      <td>-0.298201</td>\n      <td>0.026820</td>\n      <td>-0.003244</td>\n      <td>0.001818</td>\n      <td>0.004776</td>\n      <td>0.001425</td>\n      <td>0.000371</td>\n      <td>-0.006925</td>\n      <td>0.000051</td>\n      <td>-0.000852</td>\n    </tr>\n    <tr>\n      <th>3</th>\n      <td>-0.092702</td>\n      <td>-0.296948</td>\n      <td>0.028009</td>\n      <td>-0.006580</td>\n      <td>-0.002427</td>\n      <td>0.003953</td>\n      <td>0.004404</td>\n      <td>-0.002487</td>\n      <td>0.001822</td>\n      <td>0.001790</td>\n      <td>0.001075</td>\n    </tr>\n    <tr>\n      <th>4</th>\n      <td>-0.075713</td>\n      <td>-0.291440</td>\n      <td>0.024857</td>\n      <td>-0.005834</td>\n      <td>0.006055</td>\n      <td>0.001418</td>\n      <td>0.005872</td>\n      <td>-0.001234</td>\n      <td>0.005994</td>\n      <td>-0.003391</td>\n      <td>-0.003385</td>\n    </tr>\n    <tr>\n      <th>...</th>\n      <td>...</td>\n      <td>...</td>\n      <td>...</td>\n      <td>...</td>\n      <td>...</td>\n      <td>...</td>\n      <td>...</td>\n      <td>...</td>\n      <td>...</td>\n      <td>...</td>\n      <td>...</td>\n    </tr>\n    <tr>\n      <th>1912</th>\n      <td>0.152470</td>\n      <td>0.061448</td>\n      <td>-0.000067</td>\n      <td>0.001359</td>\n      <td>-0.004355</td>\n      <td>0.002267</td>\n      <td>-0.000225</td>\n      <td>-0.000991</td>\n      <td>-0.002249</td>\n      <td>0.002224</td>\n      <td>0.000787</td>\n    </tr>\n    <tr>\n      <th>1913</th>\n      <td>0.187773</td>\n      <td>-0.134163</td>\n      <td>0.007589</td>\n      <td>0.000730</td>\n      <td>-0.000958</td>\n      <td>0.001863</td>\n      <td>-0.001496</td>\n      <td>0.003682</td>\n      <td>-0.001076</td>\n      <td>0.002381</td>\n      <td>0.000018</td>\n    </tr>\n    <tr>\n      <th>1914</th>\n      <td>0.165294</td>\n      <td>-0.130974</td>\n      <td>0.003433</td>\n      <td>0.000099</td>\n      <td>-0.001549</td>\n      <td>-0.004011</td>\n      <td>0.001890</td>\n      <td>0.000886</td>\n      <td>0.001723</td>\n      <td>-0.003783</td>\n      <td>0.002239</td>\n    </tr>\n    <tr>\n      <th>1915</th>\n      <td>0.146895</td>\n      <td>0.038993</td>\n      <td>-0.002642</td>\n      <td>-0.001411</td>\n      <td>-0.003227</td>\n      <td>0.001137</td>\n      <td>0.002067</td>\n      <td>0.002939</td>\n      <td>-0.001024</td>\n      <td>0.000616</td>\n      <td>0.000307</td>\n    </tr>\n    <tr>\n      <th>1916</th>\n      <td>0.157449</td>\n      <td>0.046490</td>\n      <td>-0.000563</td>\n      <td>0.002366</td>\n      <td>-0.001639</td>\n      <td>0.001180</td>\n      <td>-0.000739</td>\n      <td>-0.000455</td>\n      <td>-0.001931</td>\n      <td>-0.002077</td>\n      <td>0.001709</td>\n    </tr>\n  </tbody>\n</table>\n<p>1917 rows × 11 columns</p>\n</div>"
     },
     "execution_count": 8,
     "metadata": {},
     "output_type": "execute_result"
    },
    {
     "data": {
      "text/plain": "<Figure size 432x288 with 1 Axes>",
      "image/png": "[encoded data removed]"
     },
     "metadata": {
      "needs_background": "light"
     },
     "output_type": "display_data"
    }
   ],
   "source": [
    "from sklearn.decomposition import PCA\n",
    "\n",
    "# Perform PCA such that it retains 99.99% of the data\n",
    "pca = PCA(.9999).fit(mat.T)\n",
    "print(\"Components\", pca.components_.shape)\n",
    "# 11 component axes, rest are noise (1906)\n",
    "\n",
    "# Project onto 2D plane\n",
    "out = pca.transform(mat.T)\n",
    "pca_df = pd.DataFrame(out, columns=[f\"PC{i + 1}\" for i in range(out.shape[1])])\n",
    "print(out.shape)\n",
    "\n",
    "plt.scatter(out[:, 0], out[:, 1])\n",
    "pca_df\n",
    "\n",
    "# The \"object\" is a spider"
   ],
   "metadata": {
    "collapsed": false,
    "pycharm": {
     "name": "#%%\n"
    }
   }
  },
  {
   "cell_type": "code",
   "execution_count": null,
   "outputs": [],
   "source": [],
   "metadata": {
    "collapsed": false,
    "pycharm": {
     "name": "#%%\n"
    }
   }
  }
 ],
 "metadata": {
  "kernelspec": {
   "display_name": "Python 3",
   "language": "python",
   "name": "python3"
  },
  "language_info": {
   "codemirror_mode": {
    "name": "ipython",
    "version": 2
   },
   "file_extension": ".py",
   "mimetype": "text/x-python",
   "name": "python",
   "nbconvert_exporter": "python",
   "pygments_lexer": "ipython2",
   "version": "2.7.6"
  }
 },
 "nbformat": 4,
 "nbformat_minor": 0
}