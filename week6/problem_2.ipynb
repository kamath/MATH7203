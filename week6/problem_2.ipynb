{
 "cells": [
  {
   "cell_type": "markdown",
   "metadata": {
    "collapsed": true,
    "pycharm": {
     "name": "#%% md\n"
    }
   },
   "source": [
    "# Problem 2\n",
    "\n",
    "This problem involves numerically demonstrating some well-known properties of the eigenvalue decomposition.  Write a program which generates random matrices $A$ of various sizes, performs an eigenvalue decomposition to get its eigenvectors $v_j$ and eigenvalues $\\lambda_j$, and then checks the following:\n",
    "\n"
   ]
  },
  {
   "cell_type": "code",
   "execution_count": 2,
   "outputs": [],
   "source": [
    "import numpy as np"
   ],
   "metadata": {
    "collapsed": false,
    "pycharm": {
     "name": "#%%\n"
    }
   }
  },
  {
   "cell_type": "code",
   "execution_count": 3,
   "outputs": [],
   "source": [
    "def random_eigendecomp(N):\n",
    "    A = np.random.uniform(low=1, high=10, size=(N, N))\n",
    "    lambdas, vecs = np.linalg.eig(A)\n",
    "    return A, vecs, lambdas"
   ],
   "metadata": {
    "collapsed": false,
    "pycharm": {
     "name": "#%%\n"
    }
   }
  },
  {
   "cell_type": "markdown",
   "source": [
    "## From the definition of eigenvectors and eigenvalues $Av_j=\\lambda_jv_j$ please check that $v_j$ and $\\lambda_j$ satisfy $\\left\\lVert Av_j - \\lambda_jv_j \\right\\rVert = 0$"
   ],
   "metadata": {
    "collapsed": false,
    "pycharm": {
     "name": "#%% md\n"
    }
   }
  },
  {
   "cell_type": "code",
   "execution_count": 17,
   "outputs": [],
   "source": [
    "def check_normed_diff(A, vecs, lambdas):\n",
    "    return [np.linalg.norm(A @ vj - lj * vj) for vj, lj in zip(vecs.T, lambdas)]"
   ],
   "metadata": {
    "collapsed": false,
    "pycharm": {
     "name": "#%%\n"
    }
   }
  },
  {
   "cell_type": "markdown",
   "source": [
    "## Please show the expression $A−\\lambda_jI$ is singular by computing its condition number."
   ],
   "metadata": {
    "collapsed": false,
    "pycharm": {
     "name": "#%% md\n"
    }
   }
  },
  {
   "cell_type": "code",
   "execution_count": 18,
   "outputs": [],
   "source": [
    "# High condition -> singular\n",
    "def check_singularity(A, vecs, lambdas):\n",
    "    return [np.linalg.cond(A - lj * np.eye(A.shape[0])) for lj in lambdas]"
   ],
   "metadata": {
    "collapsed": false,
    "pycharm": {
     "name": "#%%\n"
    }
   }
  },
  {
   "cell_type": "markdown",
   "source": [
    "## Please verify that each eigenvalue, eigenvector pair satisfies the Rayleigh quotient $\\lambda_j=\\frac{v_j^TAv_j}{v_j^Tv_j}$"
   ],
   "metadata": {
    "collapsed": false,
    "pycharm": {
     "name": "#%% md\n"
    }
   }
  },
  {
   "cell_type": "code",
   "execution_count": 19,
   "outputs": [],
   "source": [
    "def check_rayleigh(A, vecs, lambdas):\n",
    "    return [abs(lj - (vj.T @ A @ vj) / (vj.T @ vj)) for vj, lj in zip(vecs.T, lambdas)]"
   ],
   "metadata": {
    "collapsed": false,
    "pycharm": {
     "name": "#%%\n"
    }
   }
  },
  {
   "cell_type": "markdown",
   "source": [
    "## All Tests Combined"
   ],
   "metadata": {
    "collapsed": false,
    "pycharm": {
     "name": "#%% md\n"
    }
   }
  },
  {
   "cell_type": "code",
   "execution_count": 25,
   "outputs": [
    {
     "name": "stdout",
     "output_type": "stream",
     "text": [
      "1 / 20 PASSED\n",
      "2 / 20 PASSED\n",
      "3 / 20 PASSED\n",
      "4 / 20 PASSED\n",
      "5 / 20 PASSED\n",
      "6 / 20 PASSED\n",
      "7 / 20 PASSED\n",
      "8 / 20 PASSED\n",
      "9 / 20 PASSED\n",
      "10 / 20 PASSED\n",
      "11 / 20 PASSED\n",
      "12 / 20 PASSED\n",
      "13 / 20 PASSED\n",
      "14 / 20 PASSED\n",
      "15 / 20 PASSED\n",
      "16 / 20 PASSED\n",
      "17 / 20 PASSED\n",
      "18 / 20 PASSED\n",
      "19 / 20 PASSED\n",
      "20 / 20 PASSED\n"
     ]
    }
   ],
   "source": [
    "n = 20\n",
    "for i in range(n):\n",
    "    A, vecs, lambdas = random_eigendecomp(np.random.randint(2, 10))\n",
    "    # Define our bounds for zero and infinity\n",
    "    ZERO_TOL = 1e-12\n",
    "    INF_TOL = 1e12\n",
    "    normed_diff = check_normed_diff(A, vecs, lambdas)\n",
    "    singularity = check_singularity(A, vecs, lambdas)\n",
    "    rayleigh = check_rayleigh(A, vecs, lambdas)\n",
    "    all_passed = True\n",
    "    if not all(x <= ZERO_TOL for x in normed_diff):\n",
    "        print(\"NORMED DIFF FAILED, GOT\", [x for x in normed_diff if x > ZERO_TOL], \">\", ZERO_TOL)\n",
    "        all_passed = False\n",
    "    if not singularity:\n",
    "        print(\"SINGULARITY CHECK FAILED, GOT\", [x for x in singularity if x < INF_TOL], \"<\", INF_TOL)\n",
    "        all_passed = False\n",
    "    if not rayleigh:\n",
    "        print(\"RAYLEIGH CHECK FAILED, GOT\", [x for x in rayleigh if x > ZERO_TOL], \">\", ZERO_TOL)\n",
    "        all_passed = False\n",
    "    if all_passed:\n",
    "        print(f\"{i + 1} / {n} PASSED\")\n",
    "\n"
   ],
   "metadata": {
    "collapsed": false,
    "pycharm": {
     "name": "#%%\n"
    }
   }
  }
 ],
 "metadata": {
  "kernelspec": {
   "display_name": "Python 3",
   "language": "python",
   "name": "python3"
  },
  "language_info": {
   "codemirror_mode": {
    "name": "ipython",
    "version": 2
   },
   "file_extension": ".py",
   "mimetype": "text/x-python",
   "name": "python",
   "nbconvert_exporter": "python",
   "pygments_lexer": "ipython2",
   "version": "2.7.6"
  }
 },
 "nbformat": 4,
 "nbformat_minor": 0
}