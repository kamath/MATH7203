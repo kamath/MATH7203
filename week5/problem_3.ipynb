{
 "cells": [
  {
   "cell_type": "markdown",
   "metadata": {
    "collapsed": true,
    "pycharm": {
     "name": "#%% md\n"
    }
   },
   "source": [
    "# Problem 3\n",
    "\n",
    "This problem involves writing a program which performs an A-orthogonalization process on an input SPD matrix $A$.  We'll start with standard Gram-Schmidt routine, but modify it so the returned matrix has columns which are all A-orthogonal (conjugate) to each other.  This is one of the things the conjugate gradient algorithm does (under the covers) when solving the linear system $Ax = b$.\n",
    "\n",
    "The algorithm proceeds as follows:\n",
    "\n",
    "1. Take as input an $N x N$ matrix $A$.  We take the columns of A to be a set of column vectors $u_k$: $$A = \\begin{pmatrix}\\vdots & \\vdots & & \\vdots \\\\ u_1 & u_2 & \\dots & u_n \\\\ \\vdots & \\vdots & & \\vdots \\end{pmatrix}$$The goal is to use the space spanned by the columns of $A$ to create a set of vectors $d_k$ which also span the space of $A$, and additionally satisfy $d_j^TAd_i=0$ for $i \\neq j$, and $d_j^TAd_i=C_i$ for $i=j$ where $C_i$ is some constant.\n",
    "\n",
    "2. Find the first vector $d_1=u_1$\n",
    "\n",
    "3. Find the second vector $d_2=u_2−\\beta_{21}d_1$ where $\\beta_{21}=\\frac{u_2^TAd_1}{d_1^TAd_1}$. Note that this removes the part of $u_2$ which is pointing in the same conjugate direction as $d_1$, leaving $d_2$ A-orthogonal to $d_1$. **Please prove this is the case for $d_2$ using pencil and paper, and hand in your proof along with your program.** $$proj_{d_1}u_2= \\frac{d_1 \\cdot u_2}{d_1 \\cdot d_1}d_1 \\rightarrow \\frac{d_1A^Tu_2}{d_1A^Td_1}d_1$$<br> According to Shewchuk, two vectors $d_i$ and $d_j$ are conjugate if $d_i^TAd_j = 0$. If $u_2$ and $d_1$ are already A-orthogonal, there is no change to $u_2$; otherwise, the projection is subtracted, leaving $d_2$ to be the A-orthogonal component of $u_2$ to $d_1$\n",
    "\n",
    "4. Find the remaining $d_k$ vectors using the iteration $$ d_k = u_k - \\sum_{j=1}^{k-1}{\\beta_{kj}d_j} $$\n",
    "\n",
    "5. Assemble the result matrix and return it. $$D=\\begin{pmatrix} \\vdots & \\vdots & \\vdots & & \\vdots \\\\ d_1 & d_2 & d_3 & \\dots & d_N \\\\ \\vdots & \\vdots & \\vdots & & \\vdots \\end{pmatrix}$$\n",
    "\n",
    "Please make sure you include a test function which verifies that all columns in your D matrix are A-orthogonal to each other. Keep in mind that CG works for symmetric positive-definite (SPD) matrices, so you only need to test your algo against SPD inputs.  Also note that testing is tricky because the Gram-Schmidt process is not very stable numerically.  Therefore, it can accumulate large round-off errors. Feel free to use a generous testing tolerance to verify your results\n",
    "\n",
    "\n"
   ]
  },
  {
   "cell_type": "code",
   "execution_count": 3,
   "outputs": [
    {
     "name": "stdout",
     "output_type": "stream",
     "text": [
      "PASSED AT N=5 WITH CONSTANTS [35.07200693436962, 0.5229535958644551, 1.728515250955378, 0.39868504107357, 0.030577436898111137]\n",
      "PASSED AT N=6 WITH CONSTANTS [38.71847946051632, 0.49941470815004685, 0.13209020827605505, 0.026727013746950277, 0.0766939102785124, 0.056457144193562465]\n",
      "PASSED AT N=7 WITH CONSTANTS [62.789872867356166, 1.687611852433794, 0.32321456926912123, 0.06297379269179942, 0.024684163277588777, 0.010464489192718208, 0.005327541507304973]\n",
      "PASSED AT N=8 WITH CONSTANTS [248.51585548706618, 0.15984408113227755, 0.08796281090167589, 0.06528318429554056, 0.05659202218351499, 0.01575013969486874, 0.002507952189126362, 0.00305967637555223]\n",
      "PASSED AT N=9 WITH CONSTANTS [7.870333090698721, 0.2713052883407118, 0.5483115717940206, 0.20588634394481722, 0.28185315286556883, 0.11529452919896029, 0.009179573582781991, 0.027436193742334233, 0.025715133761052996]\n",
      "PASSED AT N=10 WITH CONSTANTS [125.92126471541826, 0.4699716876851798, 0.48740291845393485, 0.12582658083387596, 0.3732920464610199, 0.06916372614124273, 0.18791769934285824, 0.02397023029402881, 0.004412077546869969, 0.006218400325199695]\n",
      "PASSED AT N=11 WITH CONSTANTS [181.62963259472247, 0.2847497656265921, 0.22830883296352372, 0.200518789209928, 0.05742098058453997, 0.15808337927597257, 0.04503280331935845, 0.21693112145057514, 0.1847931116622668, 0.04963305901626484, 0.1324424490614789]\n",
      "PASSED AT N=12 WITH CONSTANTS [39.56336101073292, 0.4581130306902042, 0.5170442237792597, 1.750484581394515, 1.261256890039438, 0.2622179017646857, 0.19297307600855054, 0.19694551831105694, 0.06368072740554369, 0.06780690923305421, 0.026813374424332067, 0.014911947025722318]\n",
      "PASSED AT N=13 WITH CONSTANTS [6.719747238609234, 2.0323955553425, 0.2582842377140888, 0.17188580681657667, 1.104634653697877, 0.11144072746512088, 0.128469423437607, 0.0675276930464876, 0.059755837078904375, 0.07207014917306295, 0.07182616477298506, 0.021555788348360902, 0.06459468905046195]\n",
      "PASSED AT N=14 WITH CONSTANTS [153.93884640401262, 0.30214708810516466, 0.33879833414531957, 0.09317721189897904, 0.08504314271772281, 0.2069737032602895, 0.0965037511558453, 0.0483208112405946, 0.033455246257020815, 0.05747380044952727, 0.049475836863054866, 0.004367890086837294, 0.002581395782635921, 0.034008052220653846]\n",
      "PASSED AT N=15 WITH CONSTANTS [3.9827431862965232, 26.453871619474754, 0.2124018068422979, 0.05611128828650293, 0.17130315748019942, 0.16543003609450513, 0.15362422326570208, 0.04585326186475471, 0.03819194415830042, 0.03612592720806129, 0.07052273232424365, 0.006888029958449684, 0.001958154360722591, 0.00464091028781828, 0.01210564916993297]\n",
      "PASSED AT N=16 WITH CONSTANTS [169.51294936535766, 0.12750912091893876, 0.12979254620088482, 0.46899004647926557, 0.12761189979362833, 0.07474199613108559, 0.041963464334836886, 0.036656245620665336, 0.09690383586375947, 0.027918946169124086, 0.014959374404933142, 0.013503632966113288, 0.013641180734146394, 0.00015351636783777822, 0.0029582435993423003, 0.0007482818353977218]\n",
      "PASSED AT N=17 WITH CONSTANTS [206.04698508433495, 2.636284844578836, 0.1866772389895692, 0.4796248149092241, 0.2050742135538557, 0.0975597097441719, 0.1931721077278066, 0.1989499363100698, 0.17644799078867296, 0.16882868421401878, 0.05966743056806501, 0.11027279639133208, 0.0673757719085247, 0.08268197356571556, 0.003918472453347198, 0.011854651588724624, 0.004549336111363302]\n",
      "PASSED AT N=18 WITH CONSTANTS [0.3708242477910318, 331.6674176617522, 0.3574251808736245, 0.18741071853681743, 0.050352664879364926, 0.14757237422836858, 0.04981518287198801, 0.246512328018647, 0.0555995797517889, 0.02677222451580339, 0.13248625737741657, 0.0961035376033329, 0.004316721674276781, 0.006212766485935833, 0.0004868365151531941, 0.00028354526152344934, 6.19136330840423e-06, 1.0379450746046057e-05]\n",
      "PASSED AT N=19 WITH CONSTANTS [72.58557099273564, 0.3518982367493049, 2.060269963257128, 1.0350460847372154, 0.10623014037024048, 0.10849931911340466, 0.14926254213696744, 0.20278401099304452, 0.25880983924708933, 0.2307445014035356, 0.14335837042296806, 0.13106406472100274, 0.0870423091873304, 0.022719697685004, 0.0887888077075573, 0.01206255711749399, 0.005774641461392692, 7.026885671467122e-05, 0.0031592759037032984]\n"
     ]
    }
   ],
   "source": [
    "from sklearn.datasets import make_spd_matrix\n",
    "import numpy as np\n",
    "\n",
    "def conjugate_gram_schmidt(A):\n",
    "    # 1. The goal is to use the space spanned by the columns of 𝐴 to create a set\n",
    "    # of vectors 𝑑𝑘 which also span the space of 𝐴\n",
    "    D = np.zeros(A.shape)\n",
    "\n",
    "    # 2. Find the first vector 𝑑1=𝑢1\n",
    "    D[:,0] = A[:,0]\n",
    "\n",
    "    # 3/4. Find the remaining  𝑑𝑘  vectors using the iteration\n",
    "    for i in range(1, A.shape[0]):\n",
    "        D[:, i] = A[:,i]\n",
    "        for k in range(i):\n",
    "            Bik = (- A[:,i].T @ A @ D[:,k]) / (D[:,k].T @ A @ D[:,k])\n",
    "            D[:,i] += Bik * D[:,k]\n",
    "\n",
    "    # 5. Assemble the result matrix and return it.\n",
    "    return D\n",
    "\n",
    "for N in range(5, 20):\n",
    "    A = make_spd_matrix(N)\n",
    "    D = conjugate_gram_schmidt(A)\n",
    "\n",
    "    # The goal is to satisfy dj^TAdi=0 for i != j, and dj^TAdi=Ci for i=j\n",
    "    C = []\n",
    "    failed = False\n",
    "    for i in range(D.shape[0]):\n",
    "        for j in range(D.shape[1]):\n",
    "            res = D[:,j].T @ A @ D[:, i]\n",
    "            if i == j:\n",
    "                C.append(res)\n",
    "            else:\n",
    "                if abs(res) > 1e-10:\n",
    "                    print(f\"\\n\\nFAILED AT N={N} WITH ERROR {res}\\n\\n\")\n",
    "                    failed = True\n",
    "                    break\n",
    "    if not failed:\n",
    "        print(f\"PASSED AT N={N} WITH CONSTANTS {C}\")"
   ],
   "metadata": {
    "collapsed": false,
    "pycharm": {
     "name": "#%%\n"
    }
   }
  },
  {
   "cell_type": "code",
   "execution_count": null,
   "outputs": [],
   "source": [],
   "metadata": {
    "collapsed": false,
    "pycharm": {
     "name": "#%%\n"
    }
   }
  }
 ],
 "metadata": {
  "kernelspec": {
   "display_name": "Python 3",
   "language": "python",
   "name": "python3"
  },
  "language_info": {
   "codemirror_mode": {
    "name": "ipython",
    "version": 2
   },
   "file_extension": ".py",
   "mimetype": "text/x-python",
   "name": "python",
   "nbconvert_exporter": "python",
   "pygments_lexer": "ipython2",
   "version": "2.7.6"
  }
 },
 "nbformat": 4,
 "nbformat_minor": 0
}