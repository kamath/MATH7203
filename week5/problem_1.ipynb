{
 "cells": [
  {
   "cell_type": "markdown",
   "metadata": {
    "collapsed": true,
    "pycharm": {
     "name": "#%% md\n"
    }
   },
   "source": [
    "# Problem 1\n",
    "\n",
    "The goal of this problem is to derive matrices useful for taking first and second derivatives of a sampled function $y_n=f(t_n)$.  We used a second derivative matrix in lecture. You can consider the $t_n$ to be, for example, the points in time where the function $f(t)$ is sampled, and $y_n$ to be the sampled values of $f(t)$. We take the sample period to be constant, $h=t_{n+1}−t_n$"
   ]
  },
  {
   "cell_type": "markdown",
   "source": [
    "## 1.1 Write down the Taylor’s series expansion for the next point $y_{n+1}=f(t_{n+1})$ if you know the value of $f(t)$ at $t=t_n$ as well as all derivatives of $f(t)$ at that point.\n",
    "\n",
    "Taylor Series (general): $$f(x) = f(a) + f'(x) (x - a) + \\frac{f''(a)}{2!}(x - a)^2 + \\dots + \\frac{f^{(n)}(a)}{n!}(x - a)^n$$\n",
    "\n",
    "We say $f(t_{n+1})$ is close to $f(t_n)$, so we will use $t_n$ as $a$ and $t_{n+1}$ as $x$. The $k^{th}$ order Taylor polynomial then becomes:\n",
    "\n",
    "$$f(t_{n+1}) = f(t_n) + f'(t_n)(t_{n+1} - t_n) + \\frac{f''(t_n)}{2!}(t_{n+1} - t_n)^2 + \\dots + \\frac{f^{(k)}(t_n)}{k!}(t_{n+1} - t_n)^k$$\n",
    "\n",
    "$$= f(t_n) + hf'(t_n) + \\frac{f''(t_n)}{2!}h^2 + \\dots + \\frac{f^{(k)}(t_n)}{k!}h^k$$\n",
    "\n",
    "## 1.2 Manipulate the Taylor’s series to get an approximation for the derivative which is good to first order.  The expression you should get is $\\frac{dy}{dt} ≈ \\frac{(y_{n+1}−y_n)}{h}$.  This is known as the “forward difference” approximation to the derivative.\n",
    "\n",
    "$$\\frac{d}{dt_{n+1}}f(t_{n+1}) = \\frac{d}{dt_{n+1}}f(t_n) + \\frac{d}{dt_{n+1}}hf'(t_n) + \\frac{d}{dt_{n+1}}\\frac{f''(t_n)}{2!}h^2 + \\dots + \\frac{d}{dt_{n+1}}\\frac{f^{(k)}(t_n)}{k!}h^k$$\n",
    "\n",
    "$$=0 + f'(t_n) + hf''(t_n) + \\frac{f^{(3)}(t_n)}{2!}h^2 + \\dots + \\frac{f^{(k + 1)}(t_n)}{k!}h^k$$\n",
    "\n",
    "To derive $\\frac{y_{n+1} - y_n}{h}$...\n",
    "\n",
    "$$\\frac{y_{n+1}}{h}= h^{-1}f(t_n) + f'(t_n) + \\frac{f''(t_n)}{2!}h + \\dots + \\frac{f^{(k)}(t_n)}{k!}h^{k-1}$$\n",
    "\n",
    "$$\\frac{y_n}{h} = h^{-1}f(t_n)$$\n",
    "\n",
    "$$\\frac{y_{n+1} - y_n}{h} = \\frac{y_{n+1}}{h} - \\frac{y_n}{h}$$\n",
    "\n",
    "To first order, $y_{n+1} = f(t_{n+1}) = f(t_n) + hf'(t_n)$\n",
    "\n",
    "$$\\frac{y_{n+1}}{h} - \\frac{y_n}{h} ≈ (h^{-1}f(t_n) + f'(t_n)) - h^{-1}f(t_n)$$\n",
    "\n",
    "$$= f'(t_n) \\, \\blacksquare$$\n",
    "\n",
    "## 1.3 Now write down the Taylor’s series expansion for previous point $y_{n−1}=f(t_{n−1})$ if you know the value of $f(t)$ at $t=t_n$ as well as all derivatives of $f(t)$ at that point.\n",
    "\n",
    "$$f(t_{n-1}) = f(t_n) + f'(t_n)(t_{n-1} - t_n) + \\frac{f''(t_n)}{2!}(t_{n-1} - t_n)^2 + \\dots + \\frac{f^{(k)}(t_n)}{k!}(t_{n-1} - t_n)^k$$\n",
    "\n",
    "$$= f(t_n) - hf'(t_n) + \\frac{f''(t_n)}{2!}(-h)^2 + \\dots + \\frac{f^{(k)}(t_n)}{k!}(-h)^k$$\n",
    "\n",
    "## 1.4 Then manipulate this expansion to obtain an approximation to the derivative good to first order. This is known as the “backward difference” approximation to the derivative.\n",
    "\n",
    "$$\\frac{d}{dt_{n-1}}f(t_{n-1}) = \\frac{d}{dt_{n-1}}f(t_n) + \\frac{d}{dt_{n-1}}(-h)f'(t_n) + \\frac{d}{dt_{n-1}}\\frac{f''(t_n)}{2!}(-h)^2 + \\dots + \\frac{d}{dt_{n-1}}\\frac{f^{(k)}(t_n)}{k!}(-h)^k$$\n",
    "\n",
    "$$=0 + f'(t_n) - hf''(t_n) + \\frac{f^{(3)}(t_n)}{2!}(-h)^2 + \\dots + \\frac{f^{(k + 1)}(t_n)}{k!}(-h)^k$$\n",
    "\n",
    "To first order, $f(t_{n-1}) ≈ f(t_n) - hf'(t_n)$\n",
    "\n",
    "$$hf'(t_n) ≈ f(t_n) - f(t_{n-1})$$\n",
    "\n",
    "$$f'(t_n) ≈ \\frac{f(t_n) - f(t_{n-1})}{h}$$\n",
    "\n",
    "## 1.5 Now combine the Taylor series expansions in 1 and 3, find an expression which approximates the second derivative of $f(t)$ at point $t=t_n$\n",
    "\n",
    "$$f(t_{n+1}) = f(t_n) + hf'(t_n) + \\frac{f''(t_n)}{2!}h^2 + \\dots + \\frac{f^{(k)}(t_n)}{k!}h^k$$\n",
    "\n",
    "$$f(t_{n-1}) = f(t_n) - hf'(t_n) + \\frac{f''(t_n)}{2!}(-h)^2 + \\dots + \\frac{f^{(k)}(t_n)}{k!}(-h)^k$$\n",
    "\n",
    "To second order,\n",
    "\n",
    "$$f(t_{n+1}) = f(t_n) + hf'(t_n) + \\frac{f''(t_n)}{2}h^2$$\n",
    "$$\\frac{2}{h^2}(f(t_{n+1}) - f(t_n) - hf'(t_n)) = f''(t_n)$$\n",
    "<br>\n",
    "$$f(t_{n-1}) = f(t_n) - hf'(t_n) + \\frac{f''(t_n)}{2}h^2$$\n",
    "$$\\frac{2}{h^2}(f(t_{n-1}) - f(t_n) + hf'(t_n)) = f''(t_n)$$\n",
    "\n",
    "To combine them,\n",
    "\n",
    "$$f(t_{n+1}) + f(t_{n-1}) = 2f(t_n) + f''(t_n)h^2$$\n",
    "\n",
    "$$h^{-2}(f(t_{n+1}) + f(t_{n-1}) - 2f(t_n)) = f''(t_n)$$\n",
    "\n",
    "## 1.6 Now consider the forward difference first derivative as a matrix which operates on the vector $\\begin{bmatrix}y_1 & y_2 & y_3 & \\dots & y_{n−1} &y_n & y_{n+1} & \\dots \\end{bmatrix}^T$ to return an approximation to the first derivative, $\\begin{bmatrix} y'_1 & y'_2 & y'_3 & \\dots & y'_{n−1} & y'_n & y'_{n+1} & \\dots \\end{bmatrix}^T$.  (That is, $y'=D_1\\vec{y}$ where $D_1^+$ is the first derivative operator.)   From step 2, please write down the matrix.\n",
    "\n",
    "$$\\frac{1}{h}\\begin{bmatrix} -1 & 1 \\\\ & -1 & 1 \\\\ & & \\ddots & \\ddots \\\\ & & & -1 & 1 \\end{bmatrix} \\begin{bmatrix} y_1 \\\\ y_2 \\\\ \\vdots \\\\ y_{n-1} \\\\ y_{n} \\\\ y_{n+1} \\\\ \\vdots \\end{bmatrix} = \\begin{bmatrix} y'_1 \\\\ y'_2 \\\\ \\vdots \\\\ y'_{n-1} \\\\ y'_{n} \\\\ y'_{n+1} \\\\ \\vdots \\end{bmatrix}$$\n",
    "\n",
    "## 1.7 For fun, write a quick program which creates a vector $\\begin{bmatrix}1 & 2 & 3 & \\dots & 7 & 8 &9 & 10\\end{bmatrix}^T$ and takes its derivative using $D_1^+$.  Regarding a test, please make a plot and compare the computed derivative against what you think should be the derivative.  You can ignore any discrepancies at the end points – just think about the elements in the middle of the vector."
   ],
   "metadata": {
    "collapsed": false,
    "pycharm": {
     "name": "#%% md\n"
    }
   }
  },
  {
   "cell_type": "code",
   "execution_count": 1,
   "outputs": [
    {
     "data": {
      "text/plain": "<matplotlib.legend.Legend at 0x7fd9e90f5d30>"
     },
     "execution_count": 1,
     "metadata": {},
     "output_type": "execute_result"
    },
    {
     "data": {
      "text/plain": "<Figure size 432x288 with 1 Axes>",
      "image/png": "[encoded data removed]"
     },
     "metadata": {
      "needs_background": "light"
     },
     "output_type": "display_data"
    }
   ],
   "source": [
    "import numpy as np\n",
    "import matplotlib.pyplot as plt\n",
    "\n",
    "y = np.arange(1, 11)\n",
    "D1_plus = -np.identity(10)\n",
    "for x in range(9):\n",
    "    D1_plus[x][x+1] = 1\n",
    "\n",
    "plt.plot(np.dot(D1_plus, y), alpha=.8, label='Custom calculation')\n",
    "plt.plot(np.gradient(y, 1), alpha=.8, label='Numpy derivative')\n",
    "plt.legend()\n",
    "\n",
    "# This makes sense, since the step size is 1 and the function appears to be y=x\n",
    "# dy/dx of y=x is just y=1, and the derivative is the 1 vector"
   ],
   "metadata": {
    "collapsed": false,
    "pycharm": {
     "name": "#%%\n"
    }
   }
  },
  {
   "cell_type": "markdown",
   "source": [
    "## 1.8 Please write down the matrix corresponding to the backwards difference, $D_1^-$\n",
    "\n",
    "$$\\frac{1}{h}\\begin{bmatrix} 1 & -1 \\\\ & 1 & -1 \\\\ & & \\ddots & \\ddots \\\\ & & & 1 & -1 \\end{bmatrix} \\begin{bmatrix} y_1 \\\\ y_2 \\\\ \\vdots \\\\ y_{n-1} \\\\ y_{n} \\\\ y_{n+1} \\\\ \\vdots \\end{bmatrix} = \\begin{bmatrix} y'_1 \\\\ y'_2 \\\\ \\vdots \\\\ y'_{n-1} \\\\ y'_{n} \\\\ y'_{n+1} \\\\ \\vdots \\end{bmatrix}$$\n",
    "\n",
    "## 1.9 Please write down the matrix corresponding to the second derivative, $D_2$\n",
    "\n",
    "$$\\frac{1}{h^2}\\begin{bmatrix} 1 & -2 & 1 \\\\ & \\ddots  & \\ddots & \\ddots \\\\ & & 1 & -2 & 1 \\end{bmatrix} \\begin{bmatrix} y_1 \\\\ y_2 \\\\ \\vdots \\\\ y_{n-1} \\\\ y_{n} \\\\ y_{n+1} \\\\ \\vdots \\end{bmatrix} = \\begin{bmatrix} y'_1 \\\\ y'_2 \\\\ \\vdots \\\\ y'_{n-1} \\\\ y'_{n} \\\\ y'_{n+1} \\\\ \\vdots \\end{bmatrix}$$\n",
    "\n",
    "## 1.10 For fun, write a quick program which creates $D_1^+$ and $D_1^-$ and then computes the product $D_1^+D_1^-$.  What is the resulting matrix?  Note: for the purposes of answering this question it’s fine to ignore the first or last element on the matrix diagonal – just think about the elements in the middle of the matrix."
   ],
   "metadata": {
    "collapsed": false,
    "pycharm": {
     "name": "#%% md\n"
    }
   }
  },
  {
   "cell_type": "code",
   "execution_count": 2,
   "outputs": [
    {
     "data": {
      "text/plain": "array([[ 1., -2.,  1.,  0.,  0.,  0.,  0.,  0.,  0.,  0.],\n       [ 0.,  1., -2.,  1.,  0.,  0.,  0.,  0.,  0.,  0.],\n       [ 0.,  0.,  1., -2.,  1.,  0.,  0.,  0.,  0.,  0.],\n       [ 0.,  0.,  0.,  1., -2.,  1.,  0.,  0.,  0.,  0.],\n       [ 0.,  0.,  0.,  0.,  1., -2.,  1.,  0.,  0.,  0.],\n       [ 0.,  0.,  0.,  0.,  0.,  1., -2.,  1.,  0.,  0.],\n       [ 0.,  0.,  0.,  0.,  0.,  0.,  1., -2.,  1.,  0.],\n       [ 0.,  0.,  0.,  0.,  0.,  0.,  0.,  1., -2.,  1.],\n       [ 0.,  0.,  0.,  0.,  0.,  0.,  0.,  0.,  1., -2.],\n       [ 0.,  0.,  0.,  0.,  0.,  0.,  0.,  0.,  0.,  1.]])"
     },
     "execution_count": 2,
     "metadata": {},
     "output_type": "execute_result"
    }
   ],
   "source": [
    "y = np.arange(1, 11)\n",
    "D1_minus = -np.identity(10)\n",
    "for x in range(9):\n",
    "    D1_minus[x][x+1] = 1\n",
    "\n",
    "np.dot(D1_plus, D1_minus) # Results in the second derivative matrix\n"
   ],
   "metadata": {
    "collapsed": false,
    "pycharm": {
     "name": "#%%\n"
    }
   }
  },
  {
   "cell_type": "code",
   "execution_count": null,
   "outputs": [],
   "source": [],
   "metadata": {
    "collapsed": false,
    "pycharm": {
     "name": "#%%\n"
    }
   }
  }
 ],
 "metadata": {
  "kernelspec": {
   "display_name": "Python 3",
   "language": "python",
   "name": "python3"
  },
  "language_info": {
   "codemirror_mode": {
    "name": "ipython",
    "version": 2
   },
   "file_extension": ".py",
   "mimetype": "text/x-python",
   "name": "python",
   "nbconvert_exporter": "python",
   "pygments_lexer": "ipython2",
   "version": "2.7.6"
  }
 },
 "nbformat": 4,
 "nbformat_minor": 0
}